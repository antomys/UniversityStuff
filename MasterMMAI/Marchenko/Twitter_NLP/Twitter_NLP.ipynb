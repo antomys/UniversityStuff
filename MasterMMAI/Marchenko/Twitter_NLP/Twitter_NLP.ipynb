{
  "nbformat": 4,
  "nbformat_minor": 0,
  "metadata": {
    "colab": {
      "name": "Twitter_NLP.ipynb",
      "provenance": [],
      "collapsed_sections": [],
      "mount_file_id": "1ay9k8FAJ1g35en-jqKJGyGVBLD1HEUKJ",
      "authorship_tag": "ABX9TyOa/xkDa36T/dWMBkoE0Ppd",
      "include_colab_link": true
    },
    "kernelspec": {
      "name": "python3",
      "display_name": "Python 3"
    },
    "language_info": {
      "name": "python"
    },
    "accelerator": "GPU"
  },
  "cells": [
    {
      "cell_type": "markdown",
      "metadata": {
        "id": "view-in-github",
        "colab_type": "text"
      },
      "source": [
        "<a href=\"https://colab.research.google.com/github/antomys/Twitter_NLP/blob/master/Twitter_NLP.ipynb\" target=\"_parent\"><img src=\"https://colab.research.google.com/assets/colab-badge.svg\" alt=\"Open In Colab\"/></a>"
      ]
    },
    {
      "cell_type": "code",
      "source": [
        "%autosave 30\n",
        "%matplotlib inline"
      ],
      "metadata": {
        "colab": {
          "base_uri": "https://localhost:8080/",
          "height": 34
        },
        "id": "SSITiEYIhg32",
        "outputId": "52326c32-b73c-4918-f742-3963417a8cf7"
      },
      "execution_count": 17,
      "outputs": [
        {
          "output_type": "display_data",
          "data": {
            "application/javascript": [
              "IPython.notebook.set_autosave_interval(30000)"
            ]
          },
          "metadata": {}
        },
        {
          "output_type": "stream",
          "name": "stdout",
          "text": [
            "Autosaving every 30 seconds\n"
          ]
        }
      ]
    },
    {
      "cell_type": "markdown",
      "source": [
        "## Tweets Natular Language Processing\n",
        "\n",
        "Task: Train model to predict and clasify whether tweet is about some disaster or not."
      ],
      "metadata": {
        "id": "uHGSbQD-2--O"
      }
    },
    {
      "cell_type": "code",
      "source": [
        "!pip install keras-self-attention"
      ],
      "metadata": {
        "colab": {
          "base_uri": "https://localhost:8080/"
        },
        "id": "hyY3unF97xrX",
        "outputId": "af7b4c00-e694-44f9-92fe-75211fbd8261"
      },
      "execution_count": 18,
      "outputs": [
        {
          "output_type": "stream",
          "name": "stdout",
          "text": [
            "Requirement already satisfied: keras-self-attention in /usr/local/lib/python3.7/dist-packages (0.50.0)\n",
            "Requirement already satisfied: Keras in /usr/local/lib/python3.7/dist-packages (from keras-self-attention) (2.7.0)\n",
            "Requirement already satisfied: numpy in /usr/local/lib/python3.7/dist-packages (from keras-self-attention) (1.19.5)\n"
          ]
        }
      ]
    },
    {
      "cell_type": "code",
      "source": [
        "import numpy as np\n",
        "import pandas as pd\n",
        "import gensim\n",
        "import gensim.downloader\n",
        "import nltk\n",
        "import platform\n",
        "import string\n",
        "from matplotlib import pyplot as plt\n",
        "from pprint import pprint\n",
        "from sklearn.model_selection import train_test_split\n",
        "from nltk.corpus import stopwords\n",
        "from nltk.tokenize import word_tokenize\n",
        "from nltk.stem import SnowballStemmer\n",
        "from nltk.corpus import words\n",
        "from sklearn.pipeline import Pipeline\n",
        "import sklearn.linear_model as lm\n",
        "from sklearn.metrics import confusion_matrix, classification_report, accuracy_score, roc_auc_score\n",
        "from sklearn.feature_extraction.text import TfidfVectorizer\n",
        "from sklearn.metrics import precision_score, recall_score, precision_recall_curve, f1_score\n",
        "from sklearn import metrics\n",
        "from matplotlib import pyplot as plt\n",
        "from sklearn.model_selection import GridSearchCV\n",
        "from wordcloud import WordCloud\n",
        "\n",
        "##Importing Libraries for Neural Nets\n",
        "from tensorflow import keras\n",
        "from tensorflow.keras.models import Sequential, model_from_json\n",
        "from tensorflow.keras import layers\n",
        "from tensorflow.keras.layers import Input, Dense, Dropout, Activation, LSTM, GRU, GlobalAvgPool1D, GlobalMaxPool1D\n",
        "from keras.utils.np_utils import to_categorical\n",
        "from tqdm.keras import TqdmCallback\n",
        "from keras_self_attention import SeqSelfAttention\n",
        "import math\n",
        "from tqdm import tqdm\n",
        "import pickle \n",
        "import tensorflow as tf\n",
        "\n",
        "nltk.download('punkt')\n",
        "nltk.download('stopwords')\n",
        "stop_words = stopwords.words('english')"
      ],
      "metadata": {
        "colab": {
          "base_uri": "https://localhost:8080/"
        },
        "id": "cPnqYbJe3RUn",
        "outputId": "cfb14d19-920c-4f5b-eded-63a395aaca85"
      },
      "execution_count": 19,
      "outputs": [
        {
          "output_type": "stream",
          "name": "stdout",
          "text": [
            "[nltk_data] Downloading package punkt to /root/nltk_data...\n",
            "[nltk_data]   Package punkt is already up-to-date!\n",
            "[nltk_data] Downloading package stopwords to /root/nltk_data...\n",
            "[nltk_data]   Package stopwords is already up-to-date!\n"
          ]
        }
      ]
    },
    {
      "cell_type": "markdown",
      "source": [
        "Plot function"
      ],
      "metadata": {
        "id": "9HMpX5Bijruu"
      }
    },
    {
      "cell_type": "code",
      "source": [
        "def plot(history):\n",
        "    fig, axes = plt.subplots(nrows=1, ncols=2, figsize=(15,4))\n",
        "    axes[0].plot(history.history['loss'])   \n",
        "    axes[0].plot(history.history['val_loss'])\n",
        "    axes[0].legend(['loss','val_loss'])\n",
        "\n",
        "    axes[1].plot(history.history['accuracy'])   \n",
        "    axes[1].plot(history.history['val_accuracy'])\n",
        "    axes[1].legend(['accuracy','val_accuracy'])"
      ],
      "metadata": {
        "id": "tcq7WcssjrFF"
      },
      "execution_count": 20,
      "outputs": []
    },
    {
      "cell_type": "markdown",
      "source": [
        "## Dataset\n",
        "Input data files are available in the read-only \"../input/\" directory\n",
        "For example, running this (by clicking run or pressing Shift+Enter) will list all files under the input directory\n",
        "\n",
        "Dataset was retrieved from Kaggle. \n",
        " \n",
        "  Files:\n",
        "- train.csv - the training set\n",
        "- test.csv - the test set\n",
        "- sample_submission.csv - a sample submission file in the correct format.\n",
        "\n",
        "\n",
        "  Columns:\n",
        "- id - a unique identifier for each tweet\n",
        "- text - the text of the tweet\n",
        "- location - the location the tweet was sent from (may be blank)\n",
        "- keyword - a particular keyword from the tweet (may be blank)\n",
        "- target - in train.csv only, this denotes whether a tweet is about a real disaster (1) or not (0)"
      ],
      "metadata": {
        "id": "3wRBZido6kgD"
      }
    },
    {
      "cell_type": "code",
      "source": [
        "import os\n",
        "for dirname, _, filenames in os.walk('/content/drive/MyDrive/twitter/'):\n",
        "    for filename in filenames:\n",
        "        print(os.path.join(dirname, filename))\n",
        "\n",
        "pd.set_option('display.max_colwidth', None)\n",
        "main_path = '/content/drive/MyDrive/twitter/'\n",
        "train = pd.read_csv(main_path + 'train.csv', index_col = 'id', sep = \",\")\n",
        "test =  pd.read_csv(main_path + 'test.csv', index_col = 'id', sep = \",\")\n",
        "\n",
        "train.shape\n",
        "train.head(20)"
      ],
      "metadata": {
        "colab": {
          "base_uri": "https://localhost:8080/",
          "height": 760
        },
        "id": "ZHatyqZ_699L",
        "outputId": "17bc548e-1ea0-4b34-9d85-ab0d2a9dc76d"
      },
      "execution_count": 21,
      "outputs": [
        {
          "output_type": "stream",
          "name": "stdout",
          "text": [
            "/content/drive/MyDrive/twitter/sample_submission.csv\n",
            "/content/drive/MyDrive/twitter/test.csv\n",
            "/content/drive/MyDrive/twitter/train.csv\n"
          ]
        },
        {
          "output_type": "execute_result",
          "data": {
            "text/html": [
              "<div>\n",
              "<style scoped>\n",
              "    .dataframe tbody tr th:only-of-type {\n",
              "        vertical-align: middle;\n",
              "    }\n",
              "\n",
              "    .dataframe tbody tr th {\n",
              "        vertical-align: top;\n",
              "    }\n",
              "\n",
              "    .dataframe thead th {\n",
              "        text-align: right;\n",
              "    }\n",
              "</style>\n",
              "<table border=\"1\" class=\"dataframe\">\n",
              "  <thead>\n",
              "    <tr style=\"text-align: right;\">\n",
              "      <th></th>\n",
              "      <th>keyword</th>\n",
              "      <th>location</th>\n",
              "      <th>text</th>\n",
              "      <th>target</th>\n",
              "    </tr>\n",
              "    <tr>\n",
              "      <th>id</th>\n",
              "      <th></th>\n",
              "      <th></th>\n",
              "      <th></th>\n",
              "      <th></th>\n",
              "    </tr>\n",
              "  </thead>\n",
              "  <tbody>\n",
              "    <tr>\n",
              "      <th>1</th>\n",
              "      <td>NaN</td>\n",
              "      <td>NaN</td>\n",
              "      <td>Our Deeds are the Reason of this #earthquake May ALLAH Forgive us all</td>\n",
              "      <td>1</td>\n",
              "    </tr>\n",
              "    <tr>\n",
              "      <th>4</th>\n",
              "      <td>NaN</td>\n",
              "      <td>NaN</td>\n",
              "      <td>Forest fire near La Ronge Sask. Canada</td>\n",
              "      <td>1</td>\n",
              "    </tr>\n",
              "    <tr>\n",
              "      <th>5</th>\n",
              "      <td>NaN</td>\n",
              "      <td>NaN</td>\n",
              "      <td>All residents asked to 'shelter in place' are being notified by officers. No other evacuation or shelter in place orders are expected</td>\n",
              "      <td>1</td>\n",
              "    </tr>\n",
              "    <tr>\n",
              "      <th>6</th>\n",
              "      <td>NaN</td>\n",
              "      <td>NaN</td>\n",
              "      <td>13,000 people receive #wildfires evacuation orders in California</td>\n",
              "      <td>1</td>\n",
              "    </tr>\n",
              "    <tr>\n",
              "      <th>7</th>\n",
              "      <td>NaN</td>\n",
              "      <td>NaN</td>\n",
              "      <td>Just got sent this photo from Ruby #Alaska as smoke from #wildfires pours into a school</td>\n",
              "      <td>1</td>\n",
              "    </tr>\n",
              "    <tr>\n",
              "      <th>8</th>\n",
              "      <td>NaN</td>\n",
              "      <td>NaN</td>\n",
              "      <td>#RockyFire Update =&gt; California Hwy. 20 closed in both directions due to Lake County fire - #CAfire #wildfires</td>\n",
              "      <td>1</td>\n",
              "    </tr>\n",
              "    <tr>\n",
              "      <th>10</th>\n",
              "      <td>NaN</td>\n",
              "      <td>NaN</td>\n",
              "      <td>#flood #disaster Heavy rain causes flash flooding of streets in Manitou, Colorado Springs areas</td>\n",
              "      <td>1</td>\n",
              "    </tr>\n",
              "    <tr>\n",
              "      <th>13</th>\n",
              "      <td>NaN</td>\n",
              "      <td>NaN</td>\n",
              "      <td>I'm on top of the hill and I can see a fire in the woods...</td>\n",
              "      <td>1</td>\n",
              "    </tr>\n",
              "    <tr>\n",
              "      <th>14</th>\n",
              "      <td>NaN</td>\n",
              "      <td>NaN</td>\n",
              "      <td>There's an emergency evacuation happening now in the building across the street</td>\n",
              "      <td>1</td>\n",
              "    </tr>\n",
              "    <tr>\n",
              "      <th>15</th>\n",
              "      <td>NaN</td>\n",
              "      <td>NaN</td>\n",
              "      <td>I'm afraid that the tornado is coming to our area...</td>\n",
              "      <td>1</td>\n",
              "    </tr>\n",
              "    <tr>\n",
              "      <th>16</th>\n",
              "      <td>NaN</td>\n",
              "      <td>NaN</td>\n",
              "      <td>Three people died from the heat wave so far</td>\n",
              "      <td>1</td>\n",
              "    </tr>\n",
              "    <tr>\n",
              "      <th>17</th>\n",
              "      <td>NaN</td>\n",
              "      <td>NaN</td>\n",
              "      <td>Haha South Tampa is getting flooded hah- WAIT A SECOND I LIVE IN SOUTH TAMPA WHAT AM I GONNA DO WHAT AM I GONNA DO FVCK #flooding</td>\n",
              "      <td>1</td>\n",
              "    </tr>\n",
              "    <tr>\n",
              "      <th>18</th>\n",
              "      <td>NaN</td>\n",
              "      <td>NaN</td>\n",
              "      <td>#raining #flooding #Florida #TampaBay #Tampa 18 or 19 days. I've lost count</td>\n",
              "      <td>1</td>\n",
              "    </tr>\n",
              "    <tr>\n",
              "      <th>19</th>\n",
              "      <td>NaN</td>\n",
              "      <td>NaN</td>\n",
              "      <td>#Flood in Bago Myanmar #We arrived Bago</td>\n",
              "      <td>1</td>\n",
              "    </tr>\n",
              "    <tr>\n",
              "      <th>20</th>\n",
              "      <td>NaN</td>\n",
              "      <td>NaN</td>\n",
              "      <td>Damage to school bus on 80 in multi car crash #BREAKING</td>\n",
              "      <td>1</td>\n",
              "    </tr>\n",
              "    <tr>\n",
              "      <th>23</th>\n",
              "      <td>NaN</td>\n",
              "      <td>NaN</td>\n",
              "      <td>What's up man?</td>\n",
              "      <td>0</td>\n",
              "    </tr>\n",
              "    <tr>\n",
              "      <th>24</th>\n",
              "      <td>NaN</td>\n",
              "      <td>NaN</td>\n",
              "      <td>I love fruits</td>\n",
              "      <td>0</td>\n",
              "    </tr>\n",
              "    <tr>\n",
              "      <th>25</th>\n",
              "      <td>NaN</td>\n",
              "      <td>NaN</td>\n",
              "      <td>Summer is lovely</td>\n",
              "      <td>0</td>\n",
              "    </tr>\n",
              "    <tr>\n",
              "      <th>26</th>\n",
              "      <td>NaN</td>\n",
              "      <td>NaN</td>\n",
              "      <td>My car is so fast</td>\n",
              "      <td>0</td>\n",
              "    </tr>\n",
              "    <tr>\n",
              "      <th>28</th>\n",
              "      <td>NaN</td>\n",
              "      <td>NaN</td>\n",
              "      <td>What a goooooooaaaaaal!!!!!!</td>\n",
              "      <td>0</td>\n",
              "    </tr>\n",
              "  </tbody>\n",
              "</table>\n",
              "</div>"
            ],
            "text/plain": [
              "   keyword  ... target\n",
              "id          ...       \n",
              "1      NaN  ...      1\n",
              "4      NaN  ...      1\n",
              "5      NaN  ...      1\n",
              "6      NaN  ...      1\n",
              "7      NaN  ...      1\n",
              "8      NaN  ...      1\n",
              "10     NaN  ...      1\n",
              "13     NaN  ...      1\n",
              "14     NaN  ...      1\n",
              "15     NaN  ...      1\n",
              "16     NaN  ...      1\n",
              "17     NaN  ...      1\n",
              "18     NaN  ...      1\n",
              "19     NaN  ...      1\n",
              "20     NaN  ...      1\n",
              "23     NaN  ...      0\n",
              "24     NaN  ...      0\n",
              "25     NaN  ...      0\n",
              "26     NaN  ...      0\n",
              "28     NaN  ...      0\n",
              "\n",
              "[20 rows x 4 columns]"
            ]
          },
          "metadata": {},
          "execution_count": 21
        }
      ]
    },
    {
      "cell_type": "code",
      "source": [
        "count_class_0, count_class_1 = train[\"target\"].value_counts()\n",
        "print(\"Class 0 :\", count_class_0)\n",
        "print(\"Class 1 :\", count_class_1)"
      ],
      "metadata": {
        "colab": {
          "base_uri": "https://localhost:8080/"
        },
        "id": "HroXj6KWXx1K",
        "outputId": "db82ef4e-6a60-4e3e-b8c0-251fe47f1915"
      },
      "execution_count": 22,
      "outputs": [
        {
          "output_type": "stream",
          "name": "stdout",
          "text": [
            "Class 0 : 4342\n",
            "Class 1 : 3271\n"
          ]
        }
      ]
    },
    {
      "cell_type": "code",
      "source": [
        "class_ratio = count_class_0 / count_class_1\n",
        "print(\"Ratio Class 0 /Class 1 : \", class_ratio)"
      ],
      "metadata": {
        "colab": {
          "base_uri": "https://localhost:8080/"
        },
        "id": "EL8Nv5u9YUPR",
        "outputId": "8663c344-2d17-4656-ccc0-bedccb5c2baa"
      },
      "execution_count": 23,
      "outputs": [
        {
          "output_type": "stream",
          "name": "stdout",
          "text": [
            "Ratio Class 0 /Class 1 :  1.3274228064811984\n"
          ]
        }
      ]
    },
    {
      "cell_type": "markdown",
      "source": [
        "Since classes are imbalanced, we need to resample the dataframe\n",
        "\n",
        "First divide by class"
      ],
      "metadata": {
        "id": "XPcuYejjaCN8"
      }
    },
    {
      "cell_type": "code",
      "source": [
        "train_class_0 = train[train[\"target\"] == 0]\n",
        "train_class_1 = train[train[\"target\"] == 1]"
      ],
      "metadata": {
        "id": "SRaP5vPKaAXH"
      },
      "execution_count": 24,
      "outputs": []
    },
    {
      "cell_type": "code",
      "source": [
        "train.loc[train[\"target\"] == 1].head(10)"
      ],
      "metadata": {
        "colab": {
          "base_uri": "https://localhost:8080/",
          "height": 394
        },
        "id": "iZ1RsfRZZjzi",
        "outputId": "b7fb44ff-08af-4d30-9d01-27ac001c09f2"
      },
      "execution_count": 25,
      "outputs": [
        {
          "output_type": "execute_result",
          "data": {
            "text/html": [
              "<div>\n",
              "<style scoped>\n",
              "    .dataframe tbody tr th:only-of-type {\n",
              "        vertical-align: middle;\n",
              "    }\n",
              "\n",
              "    .dataframe tbody tr th {\n",
              "        vertical-align: top;\n",
              "    }\n",
              "\n",
              "    .dataframe thead th {\n",
              "        text-align: right;\n",
              "    }\n",
              "</style>\n",
              "<table border=\"1\" class=\"dataframe\">\n",
              "  <thead>\n",
              "    <tr style=\"text-align: right;\">\n",
              "      <th></th>\n",
              "      <th>keyword</th>\n",
              "      <th>location</th>\n",
              "      <th>text</th>\n",
              "      <th>target</th>\n",
              "    </tr>\n",
              "    <tr>\n",
              "      <th>id</th>\n",
              "      <th></th>\n",
              "      <th></th>\n",
              "      <th></th>\n",
              "      <th></th>\n",
              "    </tr>\n",
              "  </thead>\n",
              "  <tbody>\n",
              "    <tr>\n",
              "      <th>1</th>\n",
              "      <td>NaN</td>\n",
              "      <td>NaN</td>\n",
              "      <td>Our Deeds are the Reason of this #earthquake May ALLAH Forgive us all</td>\n",
              "      <td>1</td>\n",
              "    </tr>\n",
              "    <tr>\n",
              "      <th>4</th>\n",
              "      <td>NaN</td>\n",
              "      <td>NaN</td>\n",
              "      <td>Forest fire near La Ronge Sask. Canada</td>\n",
              "      <td>1</td>\n",
              "    </tr>\n",
              "    <tr>\n",
              "      <th>5</th>\n",
              "      <td>NaN</td>\n",
              "      <td>NaN</td>\n",
              "      <td>All residents asked to 'shelter in place' are being notified by officers. No other evacuation or shelter in place orders are expected</td>\n",
              "      <td>1</td>\n",
              "    </tr>\n",
              "    <tr>\n",
              "      <th>6</th>\n",
              "      <td>NaN</td>\n",
              "      <td>NaN</td>\n",
              "      <td>13,000 people receive #wildfires evacuation orders in California</td>\n",
              "      <td>1</td>\n",
              "    </tr>\n",
              "    <tr>\n",
              "      <th>7</th>\n",
              "      <td>NaN</td>\n",
              "      <td>NaN</td>\n",
              "      <td>Just got sent this photo from Ruby #Alaska as smoke from #wildfires pours into a school</td>\n",
              "      <td>1</td>\n",
              "    </tr>\n",
              "    <tr>\n",
              "      <th>8</th>\n",
              "      <td>NaN</td>\n",
              "      <td>NaN</td>\n",
              "      <td>#RockyFire Update =&gt; California Hwy. 20 closed in both directions due to Lake County fire - #CAfire #wildfires</td>\n",
              "      <td>1</td>\n",
              "    </tr>\n",
              "    <tr>\n",
              "      <th>10</th>\n",
              "      <td>NaN</td>\n",
              "      <td>NaN</td>\n",
              "      <td>#flood #disaster Heavy rain causes flash flooding of streets in Manitou, Colorado Springs areas</td>\n",
              "      <td>1</td>\n",
              "    </tr>\n",
              "    <tr>\n",
              "      <th>13</th>\n",
              "      <td>NaN</td>\n",
              "      <td>NaN</td>\n",
              "      <td>I'm on top of the hill and I can see a fire in the woods...</td>\n",
              "      <td>1</td>\n",
              "    </tr>\n",
              "    <tr>\n",
              "      <th>14</th>\n",
              "      <td>NaN</td>\n",
              "      <td>NaN</td>\n",
              "      <td>There's an emergency evacuation happening now in the building across the street</td>\n",
              "      <td>1</td>\n",
              "    </tr>\n",
              "    <tr>\n",
              "      <th>15</th>\n",
              "      <td>NaN</td>\n",
              "      <td>NaN</td>\n",
              "      <td>I'm afraid that the tornado is coming to our area...</td>\n",
              "      <td>1</td>\n",
              "    </tr>\n",
              "  </tbody>\n",
              "</table>\n",
              "</div>"
            ],
            "text/plain": [
              "   keyword  ... target\n",
              "id          ...       \n",
              "1      NaN  ...      1\n",
              "4      NaN  ...      1\n",
              "5      NaN  ...      1\n",
              "6      NaN  ...      1\n",
              "7      NaN  ...      1\n",
              "8      NaN  ...      1\n",
              "10     NaN  ...      1\n",
              "13     NaN  ...      1\n",
              "14     NaN  ...      1\n",
              "15     NaN  ...      1\n",
              "\n",
              "[10 rows x 4 columns]"
            ]
          },
          "metadata": {},
          "execution_count": 25
        }
      ]
    },
    {
      "cell_type": "code",
      "source": [
        "train.loc[train[\"target\"] == 0].head(10)"
      ],
      "metadata": {
        "colab": {
          "base_uri": "https://localhost:8080/",
          "height": 394
        },
        "id": "fdNJNmhKZp8O",
        "outputId": "bae27624-1828-4bd4-8304-7dfcf2a848a2"
      },
      "execution_count": 26,
      "outputs": [
        {
          "output_type": "execute_result",
          "data": {
            "text/html": [
              "<div>\n",
              "<style scoped>\n",
              "    .dataframe tbody tr th:only-of-type {\n",
              "        vertical-align: middle;\n",
              "    }\n",
              "\n",
              "    .dataframe tbody tr th {\n",
              "        vertical-align: top;\n",
              "    }\n",
              "\n",
              "    .dataframe thead th {\n",
              "        text-align: right;\n",
              "    }\n",
              "</style>\n",
              "<table border=\"1\" class=\"dataframe\">\n",
              "  <thead>\n",
              "    <tr style=\"text-align: right;\">\n",
              "      <th></th>\n",
              "      <th>keyword</th>\n",
              "      <th>location</th>\n",
              "      <th>text</th>\n",
              "      <th>target</th>\n",
              "    </tr>\n",
              "    <tr>\n",
              "      <th>id</th>\n",
              "      <th></th>\n",
              "      <th></th>\n",
              "      <th></th>\n",
              "      <th></th>\n",
              "    </tr>\n",
              "  </thead>\n",
              "  <tbody>\n",
              "    <tr>\n",
              "      <th>23</th>\n",
              "      <td>NaN</td>\n",
              "      <td>NaN</td>\n",
              "      <td>What's up man?</td>\n",
              "      <td>0</td>\n",
              "    </tr>\n",
              "    <tr>\n",
              "      <th>24</th>\n",
              "      <td>NaN</td>\n",
              "      <td>NaN</td>\n",
              "      <td>I love fruits</td>\n",
              "      <td>0</td>\n",
              "    </tr>\n",
              "    <tr>\n",
              "      <th>25</th>\n",
              "      <td>NaN</td>\n",
              "      <td>NaN</td>\n",
              "      <td>Summer is lovely</td>\n",
              "      <td>0</td>\n",
              "    </tr>\n",
              "    <tr>\n",
              "      <th>26</th>\n",
              "      <td>NaN</td>\n",
              "      <td>NaN</td>\n",
              "      <td>My car is so fast</td>\n",
              "      <td>0</td>\n",
              "    </tr>\n",
              "    <tr>\n",
              "      <th>28</th>\n",
              "      <td>NaN</td>\n",
              "      <td>NaN</td>\n",
              "      <td>What a goooooooaaaaaal!!!!!!</td>\n",
              "      <td>0</td>\n",
              "    </tr>\n",
              "    <tr>\n",
              "      <th>31</th>\n",
              "      <td>NaN</td>\n",
              "      <td>NaN</td>\n",
              "      <td>this is ridiculous....</td>\n",
              "      <td>0</td>\n",
              "    </tr>\n",
              "    <tr>\n",
              "      <th>32</th>\n",
              "      <td>NaN</td>\n",
              "      <td>NaN</td>\n",
              "      <td>London is cool ;)</td>\n",
              "      <td>0</td>\n",
              "    </tr>\n",
              "    <tr>\n",
              "      <th>33</th>\n",
              "      <td>NaN</td>\n",
              "      <td>NaN</td>\n",
              "      <td>Love skiing</td>\n",
              "      <td>0</td>\n",
              "    </tr>\n",
              "    <tr>\n",
              "      <th>34</th>\n",
              "      <td>NaN</td>\n",
              "      <td>NaN</td>\n",
              "      <td>What a wonderful day!</td>\n",
              "      <td>0</td>\n",
              "    </tr>\n",
              "    <tr>\n",
              "      <th>36</th>\n",
              "      <td>NaN</td>\n",
              "      <td>NaN</td>\n",
              "      <td>LOOOOOOL</td>\n",
              "      <td>0</td>\n",
              "    </tr>\n",
              "  </tbody>\n",
              "</table>\n",
              "</div>"
            ],
            "text/plain": [
              "   keyword location                          text  target\n",
              "id                                                       \n",
              "23     NaN      NaN                What's up man?       0\n",
              "24     NaN      NaN                 I love fruits       0\n",
              "25     NaN      NaN              Summer is lovely       0\n",
              "26     NaN      NaN             My car is so fast       0\n",
              "28     NaN      NaN  What a goooooooaaaaaal!!!!!!       0\n",
              "31     NaN      NaN        this is ridiculous....       0\n",
              "32     NaN      NaN             London is cool ;)       0\n",
              "33     NaN      NaN                   Love skiing       0\n",
              "34     NaN      NaN         What a wonderful day!       0\n",
              "36     NaN      NaN                      LOOOOOOL       0"
            ]
          },
          "metadata": {},
          "execution_count": 26
        }
      ]
    },
    {
      "cell_type": "code",
      "source": [
        "for c in train_class_1[\"text\"].head(10):\n",
        "    print(c)"
      ],
      "metadata": {
        "colab": {
          "base_uri": "https://localhost:8080/"
        },
        "id": "hRTiEUqFZsqa",
        "outputId": "3cb34e90-fd7e-4e9c-fb8e-6f191c48d7ae"
      },
      "execution_count": 27,
      "outputs": [
        {
          "output_type": "stream",
          "name": "stdout",
          "text": [
            "Our Deeds are the Reason of this #earthquake May ALLAH Forgive us all\n",
            "Forest fire near La Ronge Sask. Canada\n",
            "All residents asked to 'shelter in place' are being notified by officers. No other evacuation or shelter in place orders are expected\n",
            "13,000 people receive #wildfires evacuation orders in California \n",
            "Just got sent this photo from Ruby #Alaska as smoke from #wildfires pours into a school \n",
            "#RockyFire Update => California Hwy. 20 closed in both directions due to Lake County fire - #CAfire #wildfires\n",
            "#flood #disaster Heavy rain causes flash flooding of streets in Manitou, Colorado Springs areas\n",
            "I'm on top of the hill and I can see a fire in the woods...\n",
            "There's an emergency evacuation happening now in the building across the street\n",
            "I'm afraid that the tornado is coming to our area...\n"
          ]
        }
      ]
    },
    {
      "cell_type": "code",
      "source": [
        "for c in train_class_0[\"text\"].head(10):\n",
        "    print(c)"
      ],
      "metadata": {
        "colab": {
          "base_uri": "https://localhost:8080/"
        },
        "id": "1gHYPOAUZwlx",
        "outputId": "d37489a8-65d2-46c7-e714-ac62fcf9a6aa"
      },
      "execution_count": 28,
      "outputs": [
        {
          "output_type": "stream",
          "name": "stdout",
          "text": [
            "What's up man?\n",
            "I love fruits\n",
            "Summer is lovely\n",
            "My car is so fast\n",
            "What a goooooooaaaaaal!!!!!!\n",
            "this is ridiculous....\n",
            "London is cool ;)\n",
            "Love skiing\n",
            "What a wonderful day!\n",
            "LOOOOOOL\n"
          ]
        }
      ]
    },
    {
      "cell_type": "markdown",
      "source": [
        "Second resample - tryштп both under- and over-sampling\n",
        "\n",
        "Looks like oversampling works better since we use more objects - more training cases"
      ],
      "metadata": {
        "id": "VoevJnukacgu"
      }
    },
    {
      "cell_type": "code",
      "source": [
        "train_class_0_under = train_class_0.sample(count_class_1) # undersampling by loosing objects\n",
        "train_under = pd.concat([train_class_0_under, train_class_1], axis=0)\n",
        "\n",
        "train_class_1_over = train_class_1.sample(count_class_0, replace=True) # oversampling by duplicaitng objects\n",
        "train_over = pd.concat([train_class_0, train_class_1_over], axis=0)\n",
        "\n",
        "train1 = train_under\n",
        "train2 = train_over\n"
      ],
      "metadata": {
        "id": "8RweEjIsZ6oy"
      },
      "execution_count": 29,
      "outputs": []
    },
    {
      "cell_type": "code",
      "source": [
        "train[\"target\"].value_counts()"
      ],
      "metadata": {
        "colab": {
          "base_uri": "https://localhost:8080/"
        },
        "id": "RLtkkvKHbjwl",
        "outputId": "3a4af8c6-5fa2-4db3-ae30-8ee8ff10ce73"
      },
      "execution_count": 30,
      "outputs": [
        {
          "output_type": "execute_result",
          "data": {
            "text/plain": [
              "0    4342\n",
              "1    3271\n",
              "Name: target, dtype: int64"
            ]
          },
          "metadata": {},
          "execution_count": 30
        }
      ]
    },
    {
      "cell_type": "markdown",
      "source": [
        "# 1. GRU-SelfAttention-Keras\n"
      ],
      "metadata": {
        "id": "p0x7eg8vHgyy"
      }
    },
    {
      "cell_type": "markdown",
      "source": [
        "## Downloading embeddings\n",
        "  1. Download glove twitter embeddings\n",
        "  2. Takes about 5 minutes to execute, for 100-dim twitter vectors\n",
        "  3. Takes about 10+ minutes to execute, for 200-dim twitter vectors\n",
        "  4. glove_vectors_100 = gensim.downloader.load('glove-twitter-100')"
      ],
      "metadata": {
        "id": "sN4iLSgha64v"
      }
    },
    {
      "cell_type": "code",
      "source": [
        "pprint(list(gensim.downloader.info()['models'].keys()))"
      ],
      "metadata": {
        "colab": {
          "base_uri": "https://localhost:8080/"
        },
        "id": "GupThbx1Hjmg",
        "outputId": "2cea75e7-2117-40fb-a335-0b7fccf72b38"
      },
      "execution_count": 31,
      "outputs": [
        {
          "output_type": "stream",
          "name": "stdout",
          "text": [
            "['fasttext-wiki-news-subwords-300',\n",
            " 'conceptnet-numberbatch-17-06-300',\n",
            " 'word2vec-ruscorpora-300',\n",
            " 'word2vec-google-news-300',\n",
            " 'glove-wiki-gigaword-50',\n",
            " 'glove-wiki-gigaword-100',\n",
            " 'glove-wiki-gigaword-200',\n",
            " 'glove-wiki-gigaword-300',\n",
            " 'glove-twitter-25',\n",
            " 'glove-twitter-50',\n",
            " 'glove-twitter-100',\n",
            " 'glove-twitter-200',\n",
            " '__testing_word2vec-matrix-synopsis']\n"
          ]
        }
      ]
    },
    {
      "cell_type": "code",
      "source": [
        "glove_vectors = gensim.downloader.load('glove-twitter-100')\n",
        "glove = glove_vectors\n",
        "embedding_length = 100"
      ],
      "metadata": {
        "id": "YnyHCWAaHz_q"
      },
      "execution_count": 32,
      "outputs": []
    },
    {
      "cell_type": "markdown",
      "source": [
        "## Text preprocessing\n",
        "1. Word tokenization\n",
        "2. Filtering out punctuation\n",
        "3. Making words lowercase\n",
        "4. Removing stopwords\n",
        "5. Concatenating list of words\n"
      ],
      "metadata": {
        "id": "rC8zswn5OBFL"
      }
    },
    {
      "cell_type": "code",
      "source": [
        "text_train = np.array(train['text'])\n",
        "text_test = np.array(test['text'])\n",
        "text = np.concatenate((text_train, text_test), axis = 0)\n",
        "print(text.shape)\n",
        "\n",
        "# word tokenization \n",
        "for i in range(len(text)):\n",
        "    text[i] = word_tokenize(text[i])\n",
        "print('After tokenization:')\n",
        "print(text[0])\n",
        "\n",
        "# filter out punctuation\n",
        "for i in range(len(text)):\n",
        "    text[i] = [word for word in text[i] if word.isalpha()]\n",
        "print('After filtering out punctuation:')\n",
        "print(text[0])\n",
        "\n",
        "# make words lowercase \n",
        "for i in range(len(text)):\n",
        "    text[i] = [word.lower() for word in text[i]]\n",
        "print('After making lowercase:')\n",
        "print(text[0])\n",
        "\n",
        "# remove stopwords\n",
        "for i in range(len(text)):\n",
        "    text[i] = [word for word in text[i] if not word in stop_words]\n",
        "print('After removing stopwords:')\n",
        "print(text[0])\n",
        "\n",
        "# concatenate list of words\n",
        "for i in range(len(text)):\n",
        "    text_concat = ''\n",
        "    for word in text[i]:\n",
        "        text_concat += word + ' '\n",
        "    text[i] = text_concat\n",
        "print('After concatenating words:')\n",
        "text = np.array(text)"
      ],
      "metadata": {
        "colab": {
          "base_uri": "https://localhost:8080/"
        },
        "id": "X1vBlW07Q13c",
        "outputId": "710cf20c-9694-4ca5-b7bf-4e3d1e61056b"
      },
      "execution_count": 33,
      "outputs": [
        {
          "output_type": "stream",
          "name": "stdout",
          "text": [
            "(10876,)\n",
            "After tokenization:\n",
            "['Our', 'Deeds', 'are', 'the', 'Reason', 'of', 'this', '#', 'earthquake', 'May', 'ALLAH', 'Forgive', 'us', 'all']\n",
            "After filtering out punctuation:\n",
            "['Our', 'Deeds', 'are', 'the', 'Reason', 'of', 'this', 'earthquake', 'May', 'ALLAH', 'Forgive', 'us', 'all']\n",
            "After making lowercase:\n",
            "['our', 'deeds', 'are', 'the', 'reason', 'of', 'this', 'earthquake', 'may', 'allah', 'forgive', 'us', 'all']\n",
            "After removing stopwords:\n",
            "['deeds', 'reason', 'earthquake', 'may', 'allah', 'forgive', 'us']\n",
            "After concatenating words:\n"
          ]
        }
      ]
    },
    {
      "cell_type": "markdown",
      "source": [
        "## Get embeddings for each word (averaging)"
      ],
      "metadata": {
        "id": "Vi9WcDYSRUr7"
      }
    },
    {
      "cell_type": "code",
      "source": [
        "glove = glove_vectors\n",
        "\n",
        "embeddings = []\n",
        "for sentence in text:\n",
        "    embedding = np.zeros(100)\n",
        "    word_count = 0\n",
        "    for word in sentence:\n",
        "#         if word in glove.vocab:\n",
        "        if word in glove:\n",
        "            embedding += glove.get_vector(word)\n",
        "        word_count += 1\n",
        "    if word_count != 0:\n",
        "        embedding /= word_count\n",
        "    embeddings.append(embedding)\n",
        "embeddings = np.array(embeddings)\n",
        "\n",
        "embeddings.shape"
      ],
      "metadata": {
        "colab": {
          "base_uri": "https://localhost:8080/"
        },
        "id": "fy6SJeAnRftK",
        "outputId": "d27c8170-4940-4de2-96b3-64e572bb149a"
      },
      "execution_count": 34,
      "outputs": [
        {
          "output_type": "execute_result",
          "data": {
            "text/plain": [
              "(10876, 100)"
            ]
          },
          "metadata": {},
          "execution_count": 34
        }
      ]
    },
    {
      "cell_type": "code",
      "source": [
        "X_train = embeddings[:7613]\n",
        "X_test = embeddings[7613:] \n",
        "\n",
        "y_train = train['target'].values\n",
        "\n",
        "print(X_train.shape)\n",
        "print(X_test.shape)\n",
        "print(y_train.shape)"
      ],
      "metadata": {
        "colab": {
          "base_uri": "https://localhost:8080/"
        },
        "id": "gl_IGn5pR9NQ",
        "outputId": "929f8227-8375-43c9-8e0f-9178471acfaf"
      },
      "execution_count": 35,
      "outputs": [
        {
          "output_type": "stream",
          "name": "stdout",
          "text": [
            "(7613, 100)\n",
            "(3263, 100)\n",
            "(7613,)\n"
          ]
        }
      ]
    },
    {
      "cell_type": "markdown",
      "source": [
        "## Creating Model\n",
        "(Average the embeddings for each word of the tweet and learn to classify using a feedforward NN model)"
      ],
      "metadata": {
        "id": "WcYbk3BcSL89"
      }
    },
    {
      "cell_type": "code",
      "source": [
        "act = 'tanh'\n",
        "batch_len = 32\n",
        "opt = 'adam'\n",
        "epoch = 10\n",
        "val_split = 0.2\n",
        "\n",
        "keras.backend.clear_session()\n",
        "inputs = keras.Input(shape = (X_train.shape[1]))\n",
        "x = layers.Dense(32, activation = act)(inputs)\n",
        "x = layers.Dense(32, activation = act)(x)\n",
        "x = layers.Dense(16, activation = act)(x)\n",
        "outputs = layers.Dense(1)(x)\n",
        "model = keras.Model(inputs = inputs, outputs = outputs, name = 'Deep-Averaging-Network')"
      ],
      "metadata": {
        "id": "urYohhtUSNy7"
      },
      "execution_count": 36,
      "outputs": []
    },
    {
      "cell_type": "code",
      "source": [
        "model.compile(optimizer = opt, loss = 'binary_crossentropy', metrics = ['accuracy'])\n",
        "fit_model_first = model.fit(X_train, y_train, epochs = epoch, batch_size = batch_len, verbose = 1, validation_split=val_split)"
      ],
      "metadata": {
        "colab": {
          "base_uri": "https://localhost:8080/"
        },
        "id": "PD_ZdwgVSeM7",
        "outputId": "14aa59da-89c7-492a-bcd7-e2e6a7085324"
      },
      "execution_count": 37,
      "outputs": [
        {
          "output_type": "stream",
          "name": "stdout",
          "text": [
            "Epoch 1/10\n",
            "191/191 [==============================] - 2s 6ms/step - loss: 6.4891 - accuracy: 0.5793 - val_loss: 7.1808 - val_accuracy: 0.5345\n",
            "Epoch 2/10\n",
            "191/191 [==============================] - 1s 5ms/step - loss: 6.4891 - accuracy: 0.5793 - val_loss: 7.1808 - val_accuracy: 0.5345\n",
            "Epoch 3/10\n",
            "191/191 [==============================] - 1s 5ms/step - loss: 6.4891 - accuracy: 0.5793 - val_loss: 7.1808 - val_accuracy: 0.5345\n",
            "Epoch 4/10\n",
            "191/191 [==============================] - 1s 5ms/step - loss: 6.4891 - accuracy: 0.5793 - val_loss: 7.1808 - val_accuracy: 0.5345\n",
            "Epoch 5/10\n",
            "191/191 [==============================] - 1s 5ms/step - loss: 6.4891 - accuracy: 0.5793 - val_loss: 7.1808 - val_accuracy: 0.5345\n",
            "Epoch 6/10\n",
            "191/191 [==============================] - 1s 5ms/step - loss: 6.4891 - accuracy: 0.5793 - val_loss: 7.1808 - val_accuracy: 0.5345\n",
            "Epoch 7/10\n",
            "191/191 [==============================] - 1s 5ms/step - loss: 6.4891 - accuracy: 0.5793 - val_loss: 7.1808 - val_accuracy: 0.5345\n",
            "Epoch 8/10\n",
            "191/191 [==============================] - 1s 5ms/step - loss: 6.4891 - accuracy: 0.5793 - val_loss: 7.1808 - val_accuracy: 0.5345\n",
            "Epoch 9/10\n",
            "191/191 [==============================] - 1s 5ms/step - loss: 6.4891 - accuracy: 0.5793 - val_loss: 7.1808 - val_accuracy: 0.5345\n",
            "Epoch 10/10\n",
            "191/191 [==============================] - 1s 5ms/step - loss: 6.4891 - accuracy: 0.5793 - val_loss: 7.1808 - val_accuracy: 0.5345\n"
          ]
        }
      ]
    },
    {
      "cell_type": "code",
      "source": [
        "plot(fit_model_first)"
      ],
      "metadata": {
        "colab": {
          "base_uri": "https://localhost:8080/",
          "height": 265
        },
        "id": "_FF1us9rjbGK",
        "outputId": "78d8f383-ca4b-42ad-e125-ac88c425b1f9"
      },
      "execution_count": 38,
      "outputs": [
        {
          "output_type": "display_data",
          "data": {
            "image/png": "[encoded data removed]",
            "text/plain": [
              "<Figure size 1080x288 with 2 Axes>"
            ]
          },
          "metadata": {
            "needs_background": "light"
          }
        }
      ]
    },
    {
      "cell_type": "markdown",
      "source": [
        "## Get embeddings for each word (concatenate)"
      ],
      "metadata": {
        "id": "9UpcM1DeSi48"
      }
    },
    {
      "cell_type": "code",
      "source": [
        "embeddings = []\n",
        "for sentence in text:\n",
        "    embedding = []\n",
        "    for word in sentence.split():\n",
        "        if word in glove:\n",
        "            embedding.extend(glove.get_vector(word))\n",
        "        else:\n",
        "            embedding.extend(np.zeros(100).tolist())\n",
        "    # pad extra zeros to make length of each embedding = 2200\n",
        "    if len(embedding) < 2200:\n",
        "        padding_len = 2200 - len(embedding)\n",
        "        embedding.extend(np.zeros(padding_len).tolist())\n",
        "    embedding = np.array(embedding)\n",
        "    embeddings.append(embedding)\n",
        "embeddings = np.array(embeddings)"
      ],
      "metadata": {
        "id": "YJZwAAJ_SkNJ"
      },
      "execution_count": 39,
      "outputs": []
    },
    {
      "cell_type": "code",
      "source": [
        "X_train = embeddings[:7613]\n",
        "X_test = embeddings[7613:] \n",
        "y_train = train['target'].values\n",
        "\n",
        "print(X_train.shape)\n",
        "print(X_test.shape)\n",
        "print(y_train.shape)"
      ],
      "metadata": {
        "colab": {
          "base_uri": "https://localhost:8080/"
        },
        "id": "iaZy0PqHSn4A",
        "outputId": "6188ddd8-ddfb-4ffc-f2de-088157f0cbb4"
      },
      "execution_count": 40,
      "outputs": [
        {
          "output_type": "stream",
          "name": "stdout",
          "text": [
            "(7613, 2200)\n",
            "(3263, 2200)\n",
            "(7613,)\n"
          ]
        }
      ]
    },
    {
      "cell_type": "markdown",
      "source": [
        "## Creating Model (Concatenated Embeddings Model)"
      ],
      "metadata": {
        "id": "cBy1uM3mSs81"
      }
    },
    {
      "cell_type": "code",
      "source": [
        "act = 'tanh'\n",
        "batch_len = 32\n",
        "opt = 'adam'\n",
        "epoch = 10\n",
        "val_split = 0.2\n",
        "\n",
        "keras.backend.clear_session()\n",
        "inputs = keras.Input(shape = (X_train.shape[1]))\n",
        "x = layers.Dense(32, activation = act, input_dim = X_train.shape[1])(inputs)\n",
        "x = layers.Dropout(0.3)(x)\n",
        "x = layers.Dense(32, activation = act)(x)\n",
        "x = layers.Dropout(0.3)(x)\n",
        "x = layers.Dense(16, activation = act)(x)\n",
        "x = layers.Dropout(0.2)(x)\n",
        "outputs = layers.Dense(1)(x)\n",
        "model = keras.Model(inputs = inputs, outputs = outputs, name = 'Glove-FFN-Concatenated')"
      ],
      "metadata": {
        "id": "zcsNaAWHSwGo"
      },
      "execution_count": 41,
      "outputs": []
    },
    {
      "cell_type": "code",
      "source": [
        "model.compile(optimizer = opt, loss = 'binary_crossentropy', metrics = ['accuracy'])\n",
        "fit_model_second = model.fit(X_train, y_train, epochs = epoch, batch_size = batch_len, verbose = 1, validation_split=val_split)"
      ],
      "metadata": {
        "colab": {
          "base_uri": "https://localhost:8080/"
        },
        "id": "vfFn3OWeSzPj",
        "outputId": "5c4fc897-a406-4beb-f65d-31306d41c545"
      },
      "execution_count": 42,
      "outputs": [
        {
          "output_type": "stream",
          "name": "stdout",
          "text": [
            "Epoch 1/10\n",
            "191/191 [==============================] - 2s 7ms/step - loss: 2.3954 - accuracy: 0.6394 - val_loss: 0.7141 - val_accuracy: 0.7459\n",
            "Epoch 2/10\n",
            "191/191 [==============================] - 1s 5ms/step - loss: 2.0488 - accuracy: 0.6741 - val_loss: 1.1061 - val_accuracy: 0.7571\n",
            "Epoch 3/10\n",
            "191/191 [==============================] - 1s 6ms/step - loss: 1.9107 - accuracy: 0.6716 - val_loss: 1.1145 - val_accuracy: 0.7676\n",
            "Epoch 4/10\n",
            "191/191 [==============================] - 1s 6ms/step - loss: 1.6058 - accuracy: 0.6874 - val_loss: 1.0539 - val_accuracy: 0.7328\n",
            "Epoch 5/10\n",
            "191/191 [==============================] - 1s 6ms/step - loss: 1.4721 - accuracy: 0.6962 - val_loss: 0.7687 - val_accuracy: 0.7761\n",
            "Epoch 6/10\n",
            "191/191 [==============================] - 1s 5ms/step - loss: 1.3753 - accuracy: 0.6929 - val_loss: 0.7344 - val_accuracy: 0.7702\n",
            "Epoch 7/10\n",
            "191/191 [==============================] - 1s 5ms/step - loss: 1.2724 - accuracy: 0.6962 - val_loss: 0.7434 - val_accuracy: 0.6533\n",
            "Epoch 8/10\n",
            "191/191 [==============================] - 1s 6ms/step - loss: 1.2335 - accuracy: 0.6696 - val_loss: 0.6209 - val_accuracy: 0.7511\n",
            "Epoch 9/10\n",
            "191/191 [==============================] - 1s 5ms/step - loss: 1.0280 - accuracy: 0.7090 - val_loss: 0.6178 - val_accuracy: 0.7735\n",
            "Epoch 10/10\n",
            "191/191 [==============================] - 1s 5ms/step - loss: 1.0239 - accuracy: 0.6926 - val_loss: 0.8740 - val_accuracy: 0.6422\n"
          ]
        }
      ]
    },
    {
      "cell_type": "code",
      "source": [
        "plot(fit_model_second)"
      ],
      "metadata": {
        "colab": {
          "base_uri": "https://localhost:8080/",
          "height": 265
        },
        "id": "tvXf-LVyk6EO",
        "outputId": "7f58c478-2d17-476e-c0cc-785ab18fe8a8"
      },
      "execution_count": 43,
      "outputs": [
        {
          "output_type": "display_data",
          "data": {
            "image/png": "[encoded data removed]",
            "text/plain": [
              "<Figure size 1080x288 with 2 Axes>"
            ]
          },
          "metadata": {
            "needs_background": "light"
          }
        }
      ]
    },
    {
      "cell_type": "markdown",
      "source": [
        "## Creating Embeddings (for LSTM)\n",
        "Understanding input sizes for using LSTM: https://stackoverflow.com/questions/50418973/how-lstm-work-with-word-embeddings-for-text-classification-example-in-keras"
      ],
      "metadata": {
        "id": "WYpHnxvdS2rz"
      }
    },
    {
      "cell_type": "code",
      "source": [
        "embeddings = []\n",
        "for sentence in text:\n",
        "    embedding = []\n",
        "    for word in sentence.split():\n",
        "        if word in glove:\n",
        "            embedding.append(glove.get_vector(word).tolist())\n",
        "        else:\n",
        "            embedding.append(np.zeros(embedding_length).tolist())\n",
        "    # pad extra zeros to make length of each sentence = 22 \n",
        "    while len(embedding) < 22:\n",
        "        embedding.append(np.zeros(embedding_length).tolist())\n",
        "    embeddings.append(embedding)\n",
        "embeddings = np.array(embeddings)\n",
        "print(embeddings.shape)"
      ],
      "metadata": {
        "colab": {
          "base_uri": "https://localhost:8080/"
        },
        "id": "cMG7h0aGS5N5",
        "outputId": "5dc0dd39-daf3-4132-88e6-730a40508782"
      },
      "execution_count": 44,
      "outputs": [
        {
          "output_type": "stream",
          "name": "stdout",
          "text": [
            "(10876, 22, 100)\n"
          ]
        }
      ]
    },
    {
      "cell_type": "code",
      "source": [
        "X_train = embeddings[:7613]\n",
        "X_test = embeddings[7613:]\n",
        "y_train = train['target'].values\n",
        "\n",
        "print(X_train.shape)\n",
        "print(X_test.shape)\n",
        "print(y_train.shape)"
      ],
      "metadata": {
        "colab": {
          "base_uri": "https://localhost:8080/"
        },
        "id": "P5UjpM3gS74Z",
        "outputId": "d7f37cd4-6180-420d-d2f7-97f6385ddbf4"
      },
      "execution_count": 45,
      "outputs": [
        {
          "output_type": "stream",
          "name": "stdout",
          "text": [
            "(7613, 22, 100)\n",
            "(3263, 22, 100)\n",
            "(7613,)\n"
          ]
        }
      ]
    },
    {
      "cell_type": "markdown",
      "source": [
        "## Creating and training LSTM model\n",
        "(Using only the text feature)"
      ],
      "metadata": {
        "id": "DwMglpDATEIG"
      }
    },
    {
      "cell_type": "code",
      "source": [
        "act = 'tanh'\n",
        "batch_len = 32\n",
        "opt = 'adam'\n",
        "epoch = 10\n",
        "val_split = 0.2\n",
        "\n",
        "keras.backend.clear_session()\n",
        "inputs = keras.Input(shape = (22, embedding_length))\n",
        "x = layers.LSTM(64)(inputs)\n",
        "x = layers.Dense(32, activation = act)(x)\n",
        "x = layers.Dense(16, activation = act)(x)\n",
        "outputs = layers.Dense(1)(x)\n",
        "model = keras.Model(inputs = inputs, outputs = outputs, name = 'Glove-LSTM')"
      ],
      "metadata": {
        "id": "e2GARdPcTO4U"
      },
      "execution_count": 46,
      "outputs": []
    },
    {
      "cell_type": "code",
      "source": [
        "model.compile(optimizer = opt, loss = 'binary_crossentropy', metrics = ['accuracy'])\n",
        "fit_model_third = model.fit(X_train, y_train, epochs = epoch, batch_size = batch_len, verbose = 1, validation_split=val_split)"
      ],
      "metadata": {
        "colab": {
          "base_uri": "https://localhost:8080/"
        },
        "id": "4zbD66kRTUBE",
        "outputId": "8a876403-e43b-4249-d1d1-91fc3bbec3c6"
      },
      "execution_count": 47,
      "outputs": [
        {
          "output_type": "stream",
          "name": "stdout",
          "text": [
            "Epoch 1/10\n",
            "191/191 [==============================] - 6s 14ms/step - loss: 0.6205 - accuracy: 0.6966 - val_loss: 0.6378 - val_accuracy: 0.6362\n",
            "Epoch 2/10\n",
            "191/191 [==============================] - 2s 10ms/step - loss: 0.5055 - accuracy: 0.7645 - val_loss: 0.4197 - val_accuracy: 0.8168\n",
            "Epoch 3/10\n",
            "191/191 [==============================] - 2s 10ms/step - loss: 0.4975 - accuracy: 0.7750 - val_loss: 0.4838 - val_accuracy: 0.7978\n",
            "Epoch 4/10\n",
            "191/191 [==============================] - 2s 11ms/step - loss: 0.4630 - accuracy: 0.7993 - val_loss: 0.4197 - val_accuracy: 0.8221\n",
            "Epoch 5/10\n",
            "191/191 [==============================] - 2s 10ms/step - loss: 0.6407 - accuracy: 0.6662 - val_loss: 0.6564 - val_accuracy: 0.6225\n",
            "Epoch 6/10\n",
            "191/191 [==============================] - 2s 11ms/step - loss: 0.5845 - accuracy: 0.6931 - val_loss: 0.4432 - val_accuracy: 0.8030\n",
            "Epoch 7/10\n",
            "191/191 [==============================] - 2s 11ms/step - loss: 0.4571 - accuracy: 0.7975 - val_loss: 0.4414 - val_accuracy: 0.8096\n",
            "Epoch 8/10\n",
            "191/191 [==============================] - 2s 10ms/step - loss: 0.4522 - accuracy: 0.8067 - val_loss: 0.4679 - val_accuracy: 0.8063\n",
            "Epoch 9/10\n",
            "191/191 [==============================] - 2s 11ms/step - loss: 0.4309 - accuracy: 0.8151 - val_loss: 0.4165 - val_accuracy: 0.8129\n",
            "Epoch 10/10\n",
            "191/191 [==============================] - 2s 10ms/step - loss: 0.4182 - accuracy: 0.8181 - val_loss: 0.4177 - val_accuracy: 0.8253\n"
          ]
        }
      ]
    },
    {
      "cell_type": "code",
      "source": [
        "plot(fit_model_third)"
      ],
      "metadata": {
        "colab": {
          "base_uri": "https://localhost:8080/",
          "height": 265
        },
        "id": "uGIyqEDTlEEb",
        "outputId": "ffa36b4f-5d12-45e0-c75d-2c32a26bbccd"
      },
      "execution_count": 48,
      "outputs": [
        {
          "output_type": "display_data",
          "data": {
            "image/png": "[encoded data removed]",
            "text/plain": [
              "<Figure size 1080x288 with 2 Axes>"
            ]
          },
          "metadata": {
            "needs_background": "light"
          }
        }
      ]
    },
    {
      "cell_type": "markdown",
      "source": [
        "## Creating and training GRU model"
      ],
      "metadata": {
        "id": "EmyJnD8HTW2I"
      }
    },
    {
      "cell_type": "code",
      "source": [
        "act = 'tanh'\n",
        "batch_len = 16\n",
        "opt = 'adam'\n",
        "epoch = 10\n",
        "val_split = 0.2\n",
        "\n",
        "keras.backend.clear_session()\n",
        "inputs = keras.Input(shape = (22, embedding_length))\n",
        "x = layers.GRU(64)(inputs)\n",
        "x = layers.Dense(32, activation = act)(x)\n",
        "x = layers.Dense(16, activation = act)(x)\n",
        "outputs = layers.Dense(1)(x)\n",
        "model = keras.Model(inputs = inputs, outputs = outputs, name = 'Glove-GRU')"
      ],
      "metadata": {
        "id": "rWKhQ66FTaxr"
      },
      "execution_count": 49,
      "outputs": []
    },
    {
      "cell_type": "code",
      "source": [
        "model.compile(optimizer = opt, loss = 'binary_crossentropy', metrics = ['accuracy'])\n",
        "fit_model_fourth = model.fit(X_train, y_train, epochs = epoch, batch_size = batch_len, verbose = 1, validation_split=val_split)"
      ],
      "metadata": {
        "colab": {
          "base_uri": "https://localhost:8080/"
        },
        "id": "6Gc1Sy9WTdfW",
        "outputId": "d3eea060-f1b7-461c-a1d4-5a8929bcb810"
      },
      "execution_count": 50,
      "outputs": [
        {
          "output_type": "stream",
          "name": "stdout",
          "text": [
            "Epoch 1/10\n",
            "381/381 [==============================] - 6s 11ms/step - loss: 0.6699 - accuracy: 0.7013 - val_loss: 0.4873 - val_accuracy: 0.7997\n",
            "Epoch 2/10\n",
            "381/381 [==============================] - 4s 10ms/step - loss: 0.5940 - accuracy: 0.7286 - val_loss: 0.5466 - val_accuracy: 0.7551\n",
            "Epoch 3/10\n",
            "381/381 [==============================] - 4s 9ms/step - loss: 0.5187 - accuracy: 0.7719 - val_loss: 0.5018 - val_accuracy: 0.8148\n",
            "Epoch 4/10\n",
            "381/381 [==============================] - 4s 10ms/step - loss: 0.4958 - accuracy: 0.8051 - val_loss: 0.6306 - val_accuracy: 0.8142\n",
            "Epoch 5/10\n",
            "381/381 [==============================] - 4s 10ms/step - loss: 0.4458 - accuracy: 0.8125 - val_loss: 0.4771 - val_accuracy: 0.8188\n",
            "Epoch 6/10\n",
            "381/381 [==============================] - 4s 10ms/step - loss: 0.4210 - accuracy: 0.8217 - val_loss: 0.4821 - val_accuracy: 0.8240\n",
            "Epoch 7/10\n",
            "381/381 [==============================] - 4s 10ms/step - loss: 0.4513 - accuracy: 0.8031 - val_loss: 0.6400 - val_accuracy: 0.8089\n",
            "Epoch 8/10\n",
            "381/381 [==============================] - 4s 9ms/step - loss: 0.4769 - accuracy: 0.7872 - val_loss: 0.4961 - val_accuracy: 0.7708\n",
            "Epoch 9/10\n",
            "381/381 [==============================] - 4s 9ms/step - loss: 0.4536 - accuracy: 0.8095 - val_loss: 0.7307 - val_accuracy: 0.8102\n",
            "Epoch 10/10\n",
            "381/381 [==============================] - 3s 9ms/step - loss: 0.4359 - accuracy: 0.8246 - val_loss: 0.4989 - val_accuracy: 0.8175\n"
          ]
        }
      ]
    },
    {
      "cell_type": "code",
      "source": [
        "plot(fit_model_fourth)"
      ],
      "metadata": {
        "colab": {
          "base_uri": "https://localhost:8080/",
          "height": 265
        },
        "id": "KxRy--A2lRPW",
        "outputId": "7792a9d9-5717-4d5f-93eb-a76b5171c5b3"
      },
      "execution_count": 51,
      "outputs": [
        {
          "output_type": "display_data",
          "data": {
            "image/png": "[encoded data removed]",
            "text/plain": [
              "<Figure size 1080x288 with 2 Axes>"
            ]
          },
          "metadata": {
            "needs_background": "light"
          }
        }
      ]
    },
    {
      "cell_type": "markdown",
      "source": [
        "## LSTM model with self-attention"
      ],
      "metadata": {
        "id": "hQ-C6UimThHb"
      }
    },
    {
      "cell_type": "code",
      "source": [
        "act = 'tanh'\n",
        "batch_len = 16\n",
        "opt = 'adam'\n",
        "epoch = 10\n",
        "val_split = 0.2\n",
        "\n",
        "keras.backend.clear_session()\n",
        "inputs = keras.Input(shape = (22, embedding_length))\n",
        "x = layers.GRU(64, return_sequences = True)(inputs)\n",
        "x = SeqSelfAttention(attention_activation = 'tanh')(x)\n",
        "x = layers.GlobalMaxPool1D()(x)\n",
        "x = layers.Dense(32, activation = act)(x)\n",
        "x = layers.Dense(16, activation = act)(x)\n",
        "outputs = layers.Dense(1)(x)\n",
        "model = keras.Model(inputs = inputs, outputs = outputs, name = 'GRU-self-attention')"
      ],
      "metadata": {
        "id": "UfeEML6rTh2f"
      },
      "execution_count": 52,
      "outputs": []
    },
    {
      "cell_type": "code",
      "source": [
        "model.compile(optimizer = opt, loss = 'binary_crossentropy', metrics = ['accuracy'])\n",
        "fit_model_fifth = model.fit(X_train, y_train, epochs = epoch, batch_size = batch_len, verbose = 1, validation_split=val_split)"
      ],
      "metadata": {
        "colab": {
          "base_uri": "https://localhost:8080/"
        },
        "id": "V95o-P2eTlQq",
        "outputId": "5f6c9a16-297b-441f-cab9-58ef700d1046"
      },
      "execution_count": 53,
      "outputs": [
        {
          "output_type": "stream",
          "name": "stdout",
          "text": [
            "Epoch 1/10\n",
            "381/381 [==============================] - 8s 13ms/step - loss: 0.5583 - accuracy: 0.7493 - val_loss: 0.4339 - val_accuracy: 0.8135\n",
            "Epoch 2/10\n",
            "381/381 [==============================] - 4s 11ms/step - loss: 0.4945 - accuracy: 0.7901 - val_loss: 0.4732 - val_accuracy: 0.8030\n",
            "Epoch 3/10\n",
            "381/381 [==============================] - 4s 11ms/step - loss: 0.4649 - accuracy: 0.8020 - val_loss: 0.4604 - val_accuracy: 0.8076\n",
            "Epoch 4/10\n",
            "381/381 [==============================] - 4s 11ms/step - loss: 0.4512 - accuracy: 0.8064 - val_loss: 0.4364 - val_accuracy: 0.8129\n",
            "Epoch 5/10\n",
            "381/381 [==============================] - 4s 12ms/step - loss: 0.5059 - accuracy: 0.7870 - val_loss: 0.4880 - val_accuracy: 0.7978\n",
            "Epoch 6/10\n",
            "381/381 [==============================] - 4s 12ms/step - loss: 0.4504 - accuracy: 0.8059 - val_loss: 0.4591 - val_accuracy: 0.8096\n",
            "Epoch 7/10\n",
            "381/381 [==============================] - 4s 11ms/step - loss: 0.4649 - accuracy: 0.7979 - val_loss: 0.4731 - val_accuracy: 0.8011\n",
            "Epoch 8/10\n",
            "381/381 [==============================] - 4s 11ms/step - loss: 0.4290 - accuracy: 0.8144 - val_loss: 0.4631 - val_accuracy: 0.8109\n",
            "Epoch 9/10\n",
            "381/381 [==============================] - 4s 11ms/step - loss: 0.5242 - accuracy: 0.7555 - val_loss: 0.5592 - val_accuracy: 0.7518\n",
            "Epoch 10/10\n",
            "381/381 [==============================] - 4s 11ms/step - loss: 0.4784 - accuracy: 0.7875 - val_loss: 0.4839 - val_accuracy: 0.8129\n"
          ]
        }
      ]
    },
    {
      "cell_type": "code",
      "source": [
        "plot(fit_model_fifth)"
      ],
      "metadata": {
        "colab": {
          "base_uri": "https://localhost:8080/",
          "height": 265
        },
        "id": "eIxGIc59lbR0",
        "outputId": "04a64ed6-c02d-4a70-8a55-6b6e0b4dd62c"
      },
      "execution_count": 54,
      "outputs": [
        {
          "output_type": "display_data",
          "data": {
            "image/png": "[encoded data removed]",
            "text/plain": [
              "<Figure size 1080x288 with 2 Axes>"
            ]
          },
          "metadata": {
            "needs_background": "light"
          }
        }
      ]
    },
    {
      "cell_type": "markdown",
      "source": [
        "## Preparing \"keyword\" feature\n",
        "\n",
        "1.  Training data \"keywords\" processing\n",
        "2.  Replacing keywords with embeddings"
      ],
      "metadata": {
        "id": "F8G3eObbTpBI"
      }
    },
    {
      "cell_type": "code",
      "source": [
        "train['keyword'].unique()\n",
        "\n",
        "keywords = train['keyword'].fillna('none').replace('%20', ' ', regex = True).tolist()\n",
        "\n",
        "keyword_embeddings = []\n",
        "for keyword in keywords:\n",
        "    embedding = np.zeros(embedding_length)\n",
        "    word_count = 0\n",
        "    for word in keyword.split():\n",
        "        if word in glove: \n",
        "            embedding += glove.get_vector(word)\n",
        "            word_count += 1\n",
        "    if word_count != 0:\n",
        "        embedding /= word_count\n",
        "    keyword_embeddings.append(embedding)\n",
        "\n",
        "keyword_embeddings_train = np.array(keyword_embeddings)\n",
        "\n",
        "# replace \"%20\" with \" \"\n",
        "keywords = test['keyword'].fillna('none').replace('%20', ' ', regex = True).tolist()\n",
        "\n",
        "keyword_embeddings = []\n",
        "for keyword in keywords:\n",
        "    embedding = np.zeros(embedding_length)\n",
        "    word_count = 0\n",
        "    for word in keyword.split():\n",
        "        if word in glove: \n",
        "            embedding += glove.get_vector(word)\n",
        "            word_count += 1\n",
        "    if word_count != 0:\n",
        "        embedding /= word_count\n",
        "    keyword_embeddings.append(embedding)\n",
        "\n",
        "keyword_embeddings_test = np.array(keyword_embeddings)"
      ],
      "metadata": {
        "id": "Fpf0n8TrTpko"
      },
      "execution_count": 55,
      "outputs": []
    },
    {
      "cell_type": "code",
      "source": [
        "print(keyword_embeddings_train.shape)\n",
        "print(keyword_embeddings_test.shape)"
      ],
      "metadata": {
        "colab": {
          "base_uri": "https://localhost:8080/"
        },
        "id": "VMrkc0xuT99s",
        "outputId": "db141401-2b2b-45ad-a2cd-586452284600"
      },
      "execution_count": 56,
      "outputs": [
        {
          "output_type": "stream",
          "name": "stdout",
          "text": [
            "(7613, 100)\n",
            "(3263, 100)\n"
          ]
        }
      ]
    },
    {
      "cell_type": "markdown",
      "source": [
        "## Preparing \"location\" feature"
      ],
      "metadata": {
        "id": "r1MmVF94T_js"
      }
    },
    {
      "cell_type": "code",
      "source": [
        "print(train['location'].nunique())\n",
        "train['location'].unique()\n",
        "\n",
        "\n",
        "locations = train['location'].fillna('none').replace('[^a-zA-Z ]', ' ', regex = True).tolist()\n",
        "\n",
        "location_embeddings = []\n",
        "for location in locations:\n",
        "    embedding = np.zeros(embedding_length)\n",
        "    word_count = 0\n",
        "    for word in location.split():\n",
        "        if word in glove: \n",
        "            embedding += glove.get_vector(word)\n",
        "            word_count += 1\n",
        "    if word_count != 0:\n",
        "        embedding /= word_count\n",
        "    location_embeddings.append(embedding)\n",
        "\n",
        "location_embeddings_train = np.array(location_embeddings)\n",
        "\n",
        "locations = test['location'].fillna('none').replace('[^a-zA-Z ]', ' ', regex = True).tolist()\n",
        "\n",
        "location_embeddings = []\n",
        "for location in locations:\n",
        "    embedding = np.zeros(embedding_length)\n",
        "    word_count = 0\n",
        "    for word in location.split():\n",
        "        if word in glove: \n",
        "            embedding += glove.get_vector(word)\n",
        "            word_count += 1\n",
        "    if word_count != 0:\n",
        "        embedding /= word_count\n",
        "    location_embeddings.append(embedding)\n",
        "\n",
        "location_embeddings_test = np.array(location_embeddings)"
      ],
      "metadata": {
        "colab": {
          "base_uri": "https://localhost:8080/"
        },
        "id": "4ByTCA0hUAPk",
        "outputId": "fbf40c83-109b-4c24-8f1f-ee1e490933e3"
      },
      "execution_count": 57,
      "outputs": [
        {
          "output_type": "stream",
          "name": "stdout",
          "text": [
            "3341\n"
          ]
        }
      ]
    },
    {
      "cell_type": "code",
      "source": [
        "print(location_embeddings_train.shape)\n",
        "print(location_embeddings_test.shape)"
      ],
      "metadata": {
        "colab": {
          "base_uri": "https://localhost:8080/"
        },
        "id": "iGpgpV9HUGCe",
        "outputId": "972cd28b-be6d-4543-b08a-4dfa5cb25e76"
      },
      "execution_count": 58,
      "outputs": [
        {
          "output_type": "stream",
          "name": "stdout",
          "text": [
            "(7613, 100)\n",
            "(3263, 100)\n"
          ]
        }
      ]
    },
    {
      "cell_type": "code",
      "source": [
        "# concatenate \"keyword\" and location features\n",
        "non_sequential_train = np.concatenate((keyword_embeddings_train, location_embeddings_train), axis = 1)\n",
        "non_sequential_test = np.concatenate((keyword_embeddings_test, location_embeddings_test), axis = 1)\n",
        "print(non_sequential_train.shape)\n",
        "print(non_sequential_test.shape)"
      ],
      "metadata": {
        "colab": {
          "base_uri": "https://localhost:8080/"
        },
        "id": "gzUPnhVpUIk4",
        "outputId": "d3885d35-17fd-4a53-96b4-29246f196184"
      },
      "execution_count": 59,
      "outputs": [
        {
          "output_type": "stream",
          "name": "stdout",
          "text": [
            "(7613, 200)\n",
            "(3263, 200)\n"
          ]
        }
      ]
    },
    {
      "cell_type": "markdown",
      "source": [
        "## Non-linear LSTM model (with both seq and non-seq inputs)"
      ],
      "metadata": {
        "id": "KxtUZF67UKm7"
      }
    },
    {
      "cell_type": "code",
      "source": [
        "act = 'tanh'\n",
        "batch_len = 16\n",
        "opt = 'adam'\n",
        "epoch = 20\n",
        "val_split = 0.2\n",
        "\n",
        "keras.backend.clear_session()\n",
        "seq_input = keras.Input(shape = (22, embedding_length))\n",
        "non_seq_input = keras.Input(shape = (2 * embedding_length))\n",
        "x = layers.GRU(64, return_sequences = True)(seq_input)\n",
        "x = SeqSelfAttention(attention_activation = 'tanh')(x)\n",
        "x = layers.GlobalMaxPool1D()(x)\n",
        "x = layers.concatenate([x, non_seq_input])\n",
        "x = layers.Dense(64, activation = act)(x)\n",
        "x = layers.Dense(16, activation = act)(x)\n",
        "output = layers.Dense(1)(x)\n",
        "model = keras.Model(inputs = [seq_input, non_seq_input], outputs = output, name = 'complete_model')\n",
        "\n",
        "model.compile(optimizer = opt, loss = 'binary_crossentropy', metrics = ['accuracy'])\n",
        "fit_model_sixth = model.fit([X_train, non_sequential_train], y_train, epochs = epoch, batch_size = batch_len, verbose = 1, validation_split=val_split)"
      ],
      "metadata": {
        "colab": {
          "base_uri": "https://localhost:8080/"
        },
        "id": "xZPrBCAJUNhS",
        "outputId": "929758c3-0358-4c56-d0b9-f076c60f5399"
      },
      "execution_count": 60,
      "outputs": [
        {
          "output_type": "stream",
          "name": "stdout",
          "text": [
            "Epoch 1/20\n",
            "381/381 [==============================] - 8s 13ms/step - loss: 1.8258 - accuracy: 0.6404 - val_loss: 0.7838 - val_accuracy: 0.6986\n",
            "Epoch 2/20\n",
            "381/381 [==============================] - 4s 11ms/step - loss: 0.7123 - accuracy: 0.7466 - val_loss: 0.6879 - val_accuracy: 0.7039\n",
            "Epoch 3/20\n",
            "381/381 [==============================] - 5s 12ms/step - loss: 0.5774 - accuracy: 0.7535 - val_loss: 0.5591 - val_accuracy: 0.6980\n",
            "Epoch 4/20\n",
            "381/381 [==============================] - 4s 11ms/step - loss: 0.5332 - accuracy: 0.7680 - val_loss: 0.4561 - val_accuracy: 0.8102\n",
            "Epoch 5/20\n",
            "381/381 [==============================] - 5s 12ms/step - loss: 0.4700 - accuracy: 0.8051 - val_loss: 0.4520 - val_accuracy: 0.8063\n",
            "Epoch 6/20\n",
            "381/381 [==============================] - 4s 12ms/step - loss: 0.4508 - accuracy: 0.8056 - val_loss: 0.4574 - val_accuracy: 0.8201\n",
            "Epoch 7/20\n",
            "381/381 [==============================] - 4s 12ms/step - loss: 0.4580 - accuracy: 0.8011 - val_loss: 0.5472 - val_accuracy: 0.7334\n",
            "Epoch 8/20\n",
            "381/381 [==============================] - 4s 11ms/step - loss: 0.4300 - accuracy: 0.8158 - val_loss: 0.4655 - val_accuracy: 0.8221\n",
            "Epoch 9/20\n",
            "381/381 [==============================] - 4s 11ms/step - loss: 0.4105 - accuracy: 0.8297 - val_loss: 0.4324 - val_accuracy: 0.8089\n",
            "Epoch 10/20\n",
            "381/381 [==============================] - 4s 12ms/step - loss: 0.4047 - accuracy: 0.8314 - val_loss: 0.4361 - val_accuracy: 0.8116\n",
            "Epoch 11/20\n",
            "381/381 [==============================] - 4s 11ms/step - loss: 0.3967 - accuracy: 0.8373 - val_loss: 0.4687 - val_accuracy: 0.8175\n",
            "Epoch 12/20\n",
            "381/381 [==============================] - 4s 12ms/step - loss: 0.3809 - accuracy: 0.8456 - val_loss: 0.5263 - val_accuracy: 0.8050\n",
            "Epoch 13/20\n",
            "381/381 [==============================] - 4s 11ms/step - loss: 5.4257 - accuracy: 0.6263 - val_loss: 7.1808 - val_accuracy: 0.5345\n",
            "Epoch 14/20\n",
            "381/381 [==============================] - 4s 11ms/step - loss: 6.4891 - accuracy: 0.5793 - val_loss: 7.1808 - val_accuracy: 0.5345\n",
            "Epoch 15/20\n",
            "381/381 [==============================] - 4s 11ms/step - loss: 6.4891 - accuracy: 0.5793 - val_loss: 7.1808 - val_accuracy: 0.5345\n",
            "Epoch 16/20\n",
            "381/381 [==============================] - 4s 11ms/step - loss: 6.4891 - accuracy: 0.5793 - val_loss: 7.1808 - val_accuracy: 0.5345\n",
            "Epoch 17/20\n",
            "381/381 [==============================] - 4s 11ms/step - loss: 6.4891 - accuracy: 0.5793 - val_loss: 7.1808 - val_accuracy: 0.5345\n",
            "Epoch 18/20\n",
            "381/381 [==============================] - 5s 12ms/step - loss: 6.4891 - accuracy: 0.5793 - val_loss: 7.1808 - val_accuracy: 0.5345\n",
            "Epoch 19/20\n",
            "381/381 [==============================] - 5s 12ms/step - loss: 6.4891 - accuracy: 0.5793 - val_loss: 7.1808 - val_accuracy: 0.5345\n",
            "Epoch 20/20\n",
            "381/381 [==============================] - 4s 12ms/step - loss: 6.4891 - accuracy: 0.5793 - val_loss: 7.1808 - val_accuracy: 0.5345\n"
          ]
        }
      ]
    },
    {
      "cell_type": "code",
      "source": [
        "plot(fit_model_sixth)"
      ],
      "metadata": {
        "colab": {
          "base_uri": "https://localhost:8080/",
          "height": 265
        },
        "id": "qVFCtugUljVe",
        "outputId": "6740271c-ef5e-45b5-9452-2cc995d57cb6"
      },
      "execution_count": 61,
      "outputs": [
        {
          "output_type": "display_data",
          "data": {
            "image/png": "[encoded data removed]",
            "text/plain": [
              "<Figure size 1080x288 with 2 Axes>"
            ]
          },
          "metadata": {
            "needs_background": "light"
          }
        }
      ]
    },
    {
      "cell_type": "code",
      "source": [
        "tf.keras.utils.plot_model(model, show_shapes = True)"
      ],
      "metadata": {
        "colab": {
          "base_uri": "https://localhost:8080/",
          "height": 865
        },
        "id": "qlFaldh8UZvM",
        "outputId": "434975df-9577-470f-a1ff-b3ebda92293e"
      },
      "execution_count": 62,
      "outputs": [
        {
          "output_type": "execute_result",
          "data": {
            "image/png": "[encoded data removed]",
            "text/plain": [
              "<IPython.core.display.Image object>"
            ]
          },
          "metadata": {},
          "execution_count": 62
        }
      ]
    },
    {
      "cell_type": "markdown",
      "source": [
        "## Geting results for test set and generating CSV"
      ],
      "metadata": {
        "id": "l0I1Eby6UdZg"
      }
    },
    {
      "cell_type": "code",
      "source": [
        "y_test = model.predict([X_test, non_sequential_test])\n",
        "y_pred = []\n",
        "for i in range(len(y_test)):\n",
        "    if y_test[i][0] > 0.5:\n",
        "        y_pred.append(1)\n",
        "    else:\n",
        "        y_pred.append(0)\n",
        "test['target'] = y_pred\n",
        "final = test[['target']]\n",
        "final.to_csv('pred.csv', index = False)\n",
        "final\n",
        "\n",
        "y_test_norm = y_test.astype(\"int64\")"
      ],
      "metadata": {
        "id": "MCx7slllUgRj"
      },
      "execution_count": 63,
      "outputs": []
    },
    {
      "cell_type": "code",
      "source": [
        "print('null accuracy:', max(sum(y_test_norm)/y_test_norm.shape[0],1-sum(y_test)/y_test.shape[0]))\n",
        "print(\"Accuracy: %.2f%%\" % (accuracy_score(y_test_norm, y_pred)*100))\n",
        "print(classification_report(y_test_norm, y_pred))\n",
        "pd.DataFrame(confusion_matrix(y_test_norm, y_pred))"
      ],
      "metadata": {
        "colab": {
          "base_uri": "https://localhost:8080/",
          "height": 254
        },
        "id": "cCyAJcKcmIZR",
        "outputId": "3f7c8f28-2314-4357-d2fc-3498ee8ce34e"
      },
      "execution_count": 64,
      "outputs": [
        {
          "output_type": "stream",
          "name": "stdout",
          "text": [
            "null accuracy: [1.4854839]\n",
            "Accuracy: 100.00%\n",
            "              precision    recall  f1-score   support\n",
            "\n",
            "           0       1.00      1.00      1.00      3263\n",
            "\n",
            "    accuracy                           1.00      3263\n",
            "   macro avg       1.00      1.00      1.00      3263\n",
            "weighted avg       1.00      1.00      1.00      3263\n",
            "\n"
          ]
        },
        {
          "output_type": "execute_result",
          "data": {
            "text/html": [
              "<div>\n",
              "<style scoped>\n",
              "    .dataframe tbody tr th:only-of-type {\n",
              "        vertical-align: middle;\n",
              "    }\n",
              "\n",
              "    .dataframe tbody tr th {\n",
              "        vertical-align: top;\n",
              "    }\n",
              "\n",
              "    .dataframe thead th {\n",
              "        text-align: right;\n",
              "    }\n",
              "</style>\n",
              "<table border=\"1\" class=\"dataframe\">\n",
              "  <thead>\n",
              "    <tr style=\"text-align: right;\">\n",
              "      <th></th>\n",
              "      <th>0</th>\n",
              "    </tr>\n",
              "  </thead>\n",
              "  <tbody>\n",
              "    <tr>\n",
              "      <th>0</th>\n",
              "      <td>3263</td>\n",
              "    </tr>\n",
              "  </tbody>\n",
              "</table>\n",
              "</div>"
            ],
            "text/plain": [
              "      0\n",
              "0  3263"
            ]
          },
          "metadata": {},
          "execution_count": 64
        }
      ]
    },
    {
      "cell_type": "markdown",
      "source": [
        "# 2. BERT\n",
        "\n",
        "1. Create features for BERT\n",
        "2. Build the model in Keras\n",
        "3. Model tuning and cross validation\n",
        "4. Make prediction for test set"
      ],
      "metadata": {
        "id": "0G_A1__EWJJq"
      }
    },
    {
      "cell_type": "code",
      "source": [
        "!pip install tqdm\n",
        "!pip install transformers"
      ],
      "metadata": {
        "colab": {
          "base_uri": "https://localhost:8080/"
        },
        "id": "SWiSyHYUpUDS",
        "outputId": "02aa2561-8215-479a-e9c2-3d9efd4ad0b8"
      },
      "execution_count": 65,
      "outputs": [
        {
          "output_type": "stream",
          "name": "stdout",
          "text": [
            "Requirement already satisfied: tqdm in /usr/local/lib/python3.7/dist-packages (4.62.3)\n",
            "Requirement already satisfied: transformers in /usr/local/lib/python3.7/dist-packages (4.13.0)\n",
            "Requirement already satisfied: filelock in /usr/local/lib/python3.7/dist-packages (from transformers) (3.4.0)\n",
            "Requirement already satisfied: huggingface-hub<1.0,>=0.1.0 in /usr/local/lib/python3.7/dist-packages (from transformers) (0.2.1)\n",
            "Requirement already satisfied: tqdm>=4.27 in /usr/local/lib/python3.7/dist-packages (from transformers) (4.62.3)\n",
            "Requirement already satisfied: numpy>=1.17 in /usr/local/lib/python3.7/dist-packages (from transformers) (1.19.5)\n",
            "Requirement already satisfied: requests in /usr/local/lib/python3.7/dist-packages (from transformers) (2.23.0)\n",
            "Requirement already satisfied: sacremoses in /usr/local/lib/python3.7/dist-packages (from transformers) (0.0.46)\n",
            "Requirement already satisfied: packaging>=20.0 in /usr/local/lib/python3.7/dist-packages (from transformers) (21.3)\n",
            "Requirement already satisfied: tokenizers<0.11,>=0.10.1 in /usr/local/lib/python3.7/dist-packages (from transformers) (0.10.3)\n",
            "Requirement already satisfied: pyyaml>=5.1 in /usr/local/lib/python3.7/dist-packages (from transformers) (6.0)\n",
            "Requirement already satisfied: importlib-metadata in /usr/local/lib/python3.7/dist-packages (from transformers) (4.8.2)\n",
            "Requirement already satisfied: regex!=2019.12.17 in /usr/local/lib/python3.7/dist-packages (from transformers) (2019.12.20)\n",
            "Requirement already satisfied: typing-extensions>=3.7.4.3 in /usr/local/lib/python3.7/dist-packages (from huggingface-hub<1.0,>=0.1.0->transformers) (3.10.0.2)\n",
            "Requirement already satisfied: pyparsing!=3.0.5,>=2.0.2 in /usr/local/lib/python3.7/dist-packages (from packaging>=20.0->transformers) (3.0.6)\n",
            "Requirement already satisfied: zipp>=0.5 in /usr/local/lib/python3.7/dist-packages (from importlib-metadata->transformers) (3.6.0)\n",
            "Requirement already satisfied: certifi>=2017.4.17 in /usr/local/lib/python3.7/dist-packages (from requests->transformers) (2021.10.8)\n",
            "Requirement already satisfied: chardet<4,>=3.0.2 in /usr/local/lib/python3.7/dist-packages (from requests->transformers) (3.0.4)\n",
            "Requirement already satisfied: idna<3,>=2.5 in /usr/local/lib/python3.7/dist-packages (from requests->transformers) (2.10)\n",
            "Requirement already satisfied: urllib3!=1.25.0,!=1.25.1,<1.26,>=1.21.1 in /usr/local/lib/python3.7/dist-packages (from requests->transformers) (1.24.3)\n",
            "Requirement already satisfied: click in /usr/local/lib/python3.7/dist-packages (from sacremoses->transformers) (7.1.2)\n",
            "Requirement already satisfied: joblib in /usr/local/lib/python3.7/dist-packages (from sacremoses->transformers) (1.1.0)\n",
            "Requirement already satisfied: six in /usr/local/lib/python3.7/dist-packages (from sacremoses->transformers) (1.15.0)\n"
          ]
        }
      ]
    },
    {
      "cell_type": "code",
      "source": [
        "import transformers\n",
        "tokenizer = transformers.DistilBertTokenizer.from_pretrained('distilbert-base-uncased')"
      ],
      "metadata": {
        "id": "yOZCO3Hlpamh"
      },
      "execution_count": 66,
      "outputs": []
    },
    {
      "cell_type": "code",
      "source": [
        "from sklearn.model_selection import train_test_split"
      ],
      "metadata": {
        "id": "YHoLcdESp1CS"
      },
      "execution_count": 67,
      "outputs": []
    },
    {
      "cell_type": "markdown",
      "source": [
        "## Models for BERT "
      ],
      "metadata": {
        "id": "5vuf8ilyproY"
      }
    },
    {
      "cell_type": "code",
      "source": [
        "train_X, val_X, train_Y, val_Y = train_test_split(train['text'], train['target'], test_size=0.15, random_state=42)\n",
        "train_X, val_X, train_Y, val_Y = train_X.values, val_X.values, train_Y.values, val_Y.values\n",
        "test_X = test['text'].values"
      ],
      "metadata": {
        "id": "Jb8SsodJppF-"
      },
      "execution_count": 79,
      "outputs": []
    },
    {
      "cell_type": "code",
      "source": [
        "import tqdm\n",
        "\n",
        "def create_bert_input_features(tokenizer, docs, max_seq_length):\n",
        "    \n",
        "    all_ids, all_masks = [], []\n",
        "    for doc in tqdm.tqdm(docs, desc=\"Converting docs to features\"):\n",
        "        tokens = tokenizer.tokenize(doc)\n",
        "        if len(tokens) > max_seq_length-2:\n",
        "            tokens = tokens[0 : (max_seq_length-2)]\n",
        "        tokens = ['[CLS]'] + tokens + ['[SEP]']\n",
        "        ids = tokenizer.convert_tokens_to_ids(tokens)\n",
        "        masks = [1] * len(ids)\n",
        "        # Zero-pad up to the sequence length.\n",
        "        while len(ids) < max_seq_length:\n",
        "            ids.append(0)\n",
        "            masks.append(0)\n",
        "        all_ids.append(ids)\n",
        "        all_masks.append(masks)\n",
        "    encoded = np.array([all_ids, all_masks])\n",
        "    return encoded"
      ],
      "metadata": {
        "id": "1qf1u36cpcpK"
      },
      "execution_count": 80,
      "outputs": []
    },
    {
      "cell_type": "code",
      "source": [
        "MAX_SEQ_LENGTH = 200\n",
        "\n",
        "train_features_ids, train_features_masks = create_bert_input_features(tokenizer, train_X, \n",
        "                                                                      max_seq_length=MAX_SEQ_LENGTH)\n",
        "val_features_ids, val_features_masks = create_bert_input_features(tokenizer, val_X, \n",
        "                                                                  max_seq_length=MAX_SEQ_LENGTH)\n",
        "#test_features = create_bert_input_features(tokenizer, test_reviews, max_seq_length=MAX_SEQ_LENGTH)\n",
        "print('Train Features:', train_features_ids.shape, train_features_masks.shape)\n",
        "print('Val Features:', val_features_ids.shape, val_features_masks.shape)"
      ],
      "metadata": {
        "colab": {
          "base_uri": "https://localhost:8080/"
        },
        "id": "-f7Z0NxWp3xK",
        "outputId": "490c9269-c8d7-4d5b-8e9d-fb81b113ab63"
      },
      "execution_count": 81,
      "outputs": [
        {
          "output_type": "stream",
          "name": "stderr",
          "text": [
            "Converting docs to features: 100%|██████████| 6471/6471 [00:04<00:00, 1394.13it/s]\n",
            "Converting docs to features: 100%|██████████| 1142/1142 [00:00<00:00, 1361.26it/s]"
          ]
        },
        {
          "output_type": "stream",
          "name": "stdout",
          "text": [
            "Train Features: (6471, 200) (6471, 200)\n",
            "Val Features: (1142, 200) (1142, 200)\n"
          ]
        },
        {
          "output_type": "stream",
          "name": "stderr",
          "text": [
            "\n"
          ]
        }
      ]
    },
    {
      "cell_type": "code",
      "source": [
        "test_features_ids, test_features_masks = create_bert_input_features(tokenizer, test_X, \n",
        "                                                                    max_seq_length=MAX_SEQ_LENGTH)\n",
        "print('Test Features:', test_features_ids.shape, test_features_masks.shape)"
      ],
      "metadata": {
        "colab": {
          "base_uri": "https://localhost:8080/"
        },
        "id": "dTdRl8hpqKKD",
        "outputId": "e0116585-1421-4c69-bbe9-b6b45cf9ffd9"
      },
      "execution_count": 82,
      "outputs": [
        {
          "output_type": "stream",
          "name": "stderr",
          "text": [
            "Converting docs to features: 100%|██████████| 3263/3263 [00:02<00:00, 1318.28it/s]\n"
          ]
        },
        {
          "output_type": "stream",
          "name": "stdout",
          "text": [
            "Test Features: (3263, 200) (3263, 200)\n"
          ]
        }
      ]
    },
    {
      "cell_type": "markdown",
      "source": [
        "## Defining model"
      ],
      "metadata": {
        "id": "czVKMT1ZqLBb"
      }
    },
    {
      "cell_type": "code",
      "source": [
        "inp_id = tf.keras.layers.Input(shape=(MAX_SEQ_LENGTH,), dtype='int32', name=\"bert_input_ids\")\n",
        "inp_mask = tf.keras.layers.Input(shape=(MAX_SEQ_LENGTH,), dtype='int32', name=\"bert_input_masks\")\n",
        "inputs = [inp_id, inp_mask]\n",
        "\n",
        "hidden_state = transformers.TFDistilBertModel.from_pretrained('distilbert-base-uncased')(inputs)[0]\n",
        "pooled_output = hidden_state[:, 0]    \n",
        "dense1 = tf.keras.layers.Dense(64, activation='relu')(pooled_output)\n",
        "drop1 = tf.keras.layers.Dropout(0.3)(dense1)\n",
        "dense2 = tf.keras.layers.Dense(16, activation='relu')(drop1)\n",
        "drop2 = tf.keras.layers.Dropout(0.3)(dense2)\n",
        "output = tf.keras.layers.Dense(1, activation='sigmoid')(drop2)\n",
        "\n",
        "\n",
        "model = tf.keras.Model(inputs=inputs, outputs=output)\n",
        "model.compile(optimizer=tf.optimizers.Adam(learning_rate=2e-6, \n",
        "                                           epsilon=1e-08), \n",
        "              loss='binary_crossentropy', metrics=['accuracy',tf.keras.metrics.AUC()])"
      ],
      "metadata": {
        "colab": {
          "base_uri": "https://localhost:8080/"
        },
        "id": "OHTW4cIGpmjW",
        "outputId": "ee9f66e1-4eda-405b-cc4a-5cc1132f6910"
      },
      "execution_count": 83,
      "outputs": [
        {
          "output_type": "stream",
          "name": "stderr",
          "text": [
            "Some layers from the model checkpoint at distilbert-base-uncased were not used when initializing TFDistilBertModel: ['activation_13', 'vocab_transform', 'vocab_layer_norm', 'vocab_projector']\n",
            "- This IS expected if you are initializing TFDistilBertModel from the checkpoint of a model trained on another task or with another architecture (e.g. initializing a BertForSequenceClassification model from a BertForPreTraining model).\n",
            "- This IS NOT expected if you are initializing TFDistilBertModel from the checkpoint of a model that you expect to be exactly identical (initializing a BertForSequenceClassification model from a BertForSequenceClassification model).\n",
            "All the layers of TFDistilBertModel were initialized from the model checkpoint at distilbert-base-uncased.\n",
            "If your task is similar to the task the model of the checkpoint was trained on, you can already use TFDistilBertModel for predictions without further training.\n"
          ]
        }
      ]
    },
    {
      "cell_type": "markdown",
      "source": [
        "## Fit and tuning"
      ],
      "metadata": {
        "id": "Dm0MAB5WqSFy"
      }
    },
    {
      "cell_type": "code",
      "source": [
        "es = tf.keras.callbacks.EarlyStopping(monitor='val_loss', \n",
        "                                      patience=2,\n",
        "                                      restore_best_weights=True,\n",
        "                                      verbose=1)\n",
        "\n",
        "fit_bert_model = model.fit([train_features_ids, \n",
        "           train_features_masks], train_Y, \n",
        "          validation_data=([val_features_ids, \n",
        "                            val_features_masks], val_Y),\n",
        "          epochs=5, \n",
        "          batch_size=20, \n",
        "          shuffle=True,\n",
        "          callbacks=[es],\n",
        "          verbose=1)\n",
        "\n",
        "predictions = [1 if pr > 0.5 else 0 \n",
        "                   for pr in model.predict([val_features_ids, \n",
        "                                            val_features_masks], batch_size=200, verbose=0).ravel()]"
      ],
      "metadata": {
        "colab": {
          "base_uri": "https://localhost:8080/"
        },
        "id": "qnb-rM8LqTWr",
        "outputId": "d81bd95d-7d5c-4989-cdf2-2361bbf188f5"
      },
      "execution_count": 87,
      "outputs": [
        {
          "output_type": "stream",
          "name": "stdout",
          "text": [
            "Epoch 1/5\n",
            "324/324 [==============================] - 273s 844ms/step - loss: 0.4809 - accuracy: 0.7935 - auc_2: 0.8454 - val_loss: 0.4286 - val_accuracy: 0.8275 - val_auc_2: 0.8671\n",
            "Epoch 2/5\n",
            "324/324 [==============================] - 274s 845ms/step - loss: 0.4392 - accuracy: 0.8197 - auc_2: 0.8692 - val_loss: 0.4215 - val_accuracy: 0.8196 - val_auc_2: 0.8761\n",
            "Epoch 3/5\n",
            "324/324 [==============================] - 274s 846ms/step - loss: 0.4182 - accuracy: 0.8311 - auc_2: 0.8837 - val_loss: 0.4117 - val_accuracy: 0.8284 - val_auc_2: 0.8784\n",
            "Epoch 4/5\n",
            "324/324 [==============================] - 273s 844ms/step - loss: 0.3895 - accuracy: 0.8456 - auc_2: 0.8984 - val_loss: 0.4117 - val_accuracy: 0.8327 - val_auc_2: 0.8784\n",
            "Epoch 5/5\n",
            "324/324 [==============================] - ETA: 0s - loss: 0.3660 - accuracy: 0.8550 - auc_2: 0.9101Restoring model weights from the end of the best epoch: 3.\n",
            "324/324 [==============================] - 273s 842ms/step - loss: 0.3660 - accuracy: 0.8550 - auc_2: 0.9101 - val_loss: 0.4159 - val_accuracy: 0.8345 - val_auc_2: 0.8757\n",
            "Epoch 00005: early stopping\n"
          ]
        }
      ]
    },
    {
      "cell_type": "code",
      "source": [
        "plot(fit_bert_model)"
      ],
      "metadata": {
        "colab": {
          "base_uri": "https://localhost:8080/",
          "height": 265
        },
        "id": "l-G4y3noqPkh",
        "outputId": "103adc08-d287-4c32-d441-de1ab2bda1ef"
      },
      "execution_count": 89,
      "outputs": [
        {
          "output_type": "display_data",
          "data": {
            "image/png": "[encoded data removed]",
            "text/plain": [
              "<Figure size 1080x288 with 2 Axes>"
            ]
          },
          "metadata": {
            "needs_background": "light"
          }
        }
      ]
    },
    {
      "cell_type": "code",
      "source": [
        "from sklearn.metrics import confusion_matrix, classification_report, accuracy_score, roc_auc_score\n",
        "print('null accuracy:', max(sum(val_Y)/val_Y.shape[0],1-sum(val_Y)/val_Y.shape[0]))\n",
        "print(\"Accuracy: %.2f%%\" % (accuracy_score(val_Y, predictions)*100))\n",
        "print(\"roc auc:\", roc_auc_score(val_Y, predictions))\n",
        "print(classification_report(val_Y, predictions))\n",
        "pd.DataFrame(confusion_matrix(val_Y, predictions))"
      ],
      "metadata": {
        "colab": {
          "base_uri": "https://localhost:8080/",
          "height": 320
        },
        "id": "lLsCBse-qf0s",
        "outputId": "75700770-e014-48b8-cdcd-d0c647440c5a"
      },
      "execution_count": 90,
      "outputs": [
        {
          "output_type": "stream",
          "name": "stdout",
          "text": [
            "null accuracy: 0.5700525394045535\n",
            "Accuracy: 82.84%\n",
            "roc auc: 0.8219314793784277\n",
            "              precision    recall  f1-score   support\n",
            "\n",
            "           0       0.84      0.87      0.85       651\n",
            "           1       0.82      0.78      0.80       491\n",
            "\n",
            "    accuracy                           0.83      1142\n",
            "   macro avg       0.83      0.82      0.82      1142\n",
            "weighted avg       0.83      0.83      0.83      1142\n",
            "\n"
          ]
        },
        {
          "output_type": "execute_result",
          "data": {
            "text/html": [
              "<div>\n",
              "<style scoped>\n",
              "    .dataframe tbody tr th:only-of-type {\n",
              "        vertical-align: middle;\n",
              "    }\n",
              "\n",
              "    .dataframe tbody tr th {\n",
              "        vertical-align: top;\n",
              "    }\n",
              "\n",
              "    .dataframe thead th {\n",
              "        text-align: right;\n",
              "    }\n",
              "</style>\n",
              "<table border=\"1\" class=\"dataframe\">\n",
              "  <thead>\n",
              "    <tr style=\"text-align: right;\">\n",
              "      <th></th>\n",
              "      <th>0</th>\n",
              "      <th>1</th>\n",
              "    </tr>\n",
              "  </thead>\n",
              "  <tbody>\n",
              "    <tr>\n",
              "      <th>0</th>\n",
              "      <td>565</td>\n",
              "      <td>86</td>\n",
              "    </tr>\n",
              "    <tr>\n",
              "      <th>1</th>\n",
              "      <td>110</td>\n",
              "      <td>381</td>\n",
              "    </tr>\n",
              "  </tbody>\n",
              "</table>\n",
              "</div>"
            ],
            "text/plain": [
              "     0    1\n",
              "0  565   86\n",
              "1  110  381"
            ]
          },
          "metadata": {},
          "execution_count": 90
        }
      ]
    },
    {
      "cell_type": "markdown",
      "source": [
        "## Predicting test set"
      ],
      "metadata": {
        "id": "_KigHJGZqhPW"
      }
    },
    {
      "cell_type": "code",
      "source": [
        "test_Y=model.predict([test_features_ids, test_features_masks], batch_size=200, verbose=0)\n",
        "\n",
        "test_label=[]\n",
        "\n",
        "for i in range(test_Y.shape[0]):\n",
        "    if test_Y[i]>=0.5:\n",
        "        test_label.append(1)\n",
        "    else:\n",
        "        test_label.append(0)"
      ],
      "metadata": {
        "id": "sxGZsPg7qjkz"
      },
      "execution_count": 91,
      "outputs": []
    },
    {
      "cell_type": "markdown",
      "source": [
        "## Getting results for test set "
      ],
      "metadata": {
        "id": "u8lctvocqlnQ"
      }
    },
    {
      "cell_type": "code",
      "source": [
        "submission = pd.DataFrame({'target':test_label})\n",
        "print(submission.head(10))\n",
        "\n",
        "filename = 'submission_nlp_tweets_bert.csv'\n",
        "\n",
        "submission.to_csv(filename,index=False)"
      ],
      "metadata": {
        "colab": {
          "base_uri": "https://localhost:8080/"
        },
        "id": "VzuqgFhjqn7T",
        "outputId": "de1beaa8-3d82-4daa-8ab5-6977c12c7d0a"
      },
      "execution_count": 94,
      "outputs": [
        {
          "output_type": "stream",
          "name": "stdout",
          "text": [
            "   target\n",
            "0       1\n",
            "1       1\n",
            "2       1\n",
            "3       1\n",
            "4       1\n",
            "5       1\n",
            "6       0\n",
            "7       0\n",
            "8       0\n",
            "9       0\n"
          ]
        }
      ]
    }
  ]
}